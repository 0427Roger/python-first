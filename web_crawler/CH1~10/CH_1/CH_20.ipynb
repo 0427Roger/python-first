{
 "cells": [
  {
   "cell_type": "code",
   "execution_count": 83,
   "metadata": {},
   "outputs": [],
   "source": [
    "import pygal.maps.world\n",
    "import json\n",
    "import csv\n",
    "with open('country-by-population.json')as fnObj:\n",
    "    getDatas=json.load(fnObj)\n",
    "datas={getData['country']:getData['population'] for getData in getDatas}\n",
    "def getCountryName(countryCode):\n",
    "    Name=pygal.maps.world.COUNTRIES[countryCode]\n",
    "    return Name\n",
    "worldMap=pygal.maps.world.World()\n",
    "worldMap.title='Population in China/Japan/Thailand'\n",
    "worldMap.add('Asia',{'cn':datas[getCountryName('cn')],'jp':datas[getCountryName('jp')],'th':datas[getCountryName('th')]})\n",
    "worldMap.render_to_file('out20.svg')"
   ]
  }
 ],
 "metadata": {
  "kernelspec": {
   "display_name": "Python 3",
   "language": "python",
   "name": "python3"
  },
  "language_info": {
   "codemirror_mode": {
    "name": "ipython",
    "version": 3
   },
   "file_extension": ".py",
   "mimetype": "text/x-python",
   "name": "python",
   "nbconvert_exporter": "python",
   "pygments_lexer": "ipython3",
   "version": "3.10.14"
  }
 },
 "nbformat": 4,
 "nbformat_minor": 2
}
