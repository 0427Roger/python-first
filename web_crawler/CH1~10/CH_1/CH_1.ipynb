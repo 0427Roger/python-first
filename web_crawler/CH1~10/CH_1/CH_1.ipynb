{
 "cells": [
  {
   "cell_type": "code",
   "execution_count": 6,
   "metadata": {},
   "outputs": [
    {
     "name": "stdout",
     "output_type": "stream",
     "text": [
      "['Afghanistan', 'Albania', 'Algeria', 'American Samoa', 'Andorra', 'Angola', 'Anguilla', 'Antarctica', 'Antigua and Barbuda', 'Argentina', 'Armenia', 'Aruba', 'Australia', 'Austria', 'Azerbaijan', 'Bahamas', 'Bahrain', 'Bangladesh', 'Barbados', 'Belarus', 'Belgium', 'Belize', 'Benin', 'Bermuda', 'Bhutan', 'Bolivia', 'Bosnia and Herzegovina', 'Botswana', 'Bouvet Island', 'Brazil', 'British Indian Ocean Territory', 'Brunei', 'Bulgaria', 'Burkina Faso', 'Burundi', 'Cabo Verde', 'Cambodia', 'Cameroon', 'Canada', 'Cape Verde', 'Cayman Islands', 'Central African Republic', 'Chad', 'Chile', 'China', 'Christmas Island', 'Cocos (Keeling) Islands', 'Colombia', 'Comoros', 'Congo', 'Cook Islands', 'Costa Rica', 'Croatia', 'Cuba', 'Cyprus', 'Czech Republic', 'Denmark', 'Djibouti', 'Dominica', 'Dominican Republic', 'East Timor', 'Ecuador', 'Egypt', 'El Salvador', 'England', 'Equatorial Guinea', 'Eritrea', 'Estonia', 'Ethiopia', 'Falkland Islands', 'Faroe Islands', 'Fiji Islands', 'Finland', 'France', 'French Guiana', 'French Polynesia', 'French Southern territories', 'Gabon', 'Gambia', 'Georgia', 'Germany', 'Ghana', 'Gibraltar', 'Greece', 'Greenland', 'Grenada', 'Guadeloupe', 'Guam', 'Guatemala', 'Guinea', 'Guinea-Bissau', 'Guyana', 'Haiti', 'Heard Island and McDonald Islands', 'Holy See (Vatican City State)', 'Honduras', 'Hong Kong', 'Hungary', 'Iceland', 'India', 'Indonesia', 'Iran', 'Iraq', 'Ireland', 'Israel', 'Italy', 'Ivory Coast', 'Jamaica', 'Japan', 'Jordan', 'Kazakhstan', 'Kenya', 'Kiribati', 'Kuwait', 'Kyrgyzstan', 'Laos', 'Latvia', 'Lebanon', 'Lesotho', 'Liberia', 'Libyan Arab Jamahiriya', 'Liechtenstein', 'Lithuania', 'Luxembourg', 'Macao', 'North Macedonia', 'Madagascar', 'Malawi', 'Malaysia', 'Maldives', 'Mali', 'Malta', 'Marshall Islands', 'Martinique', 'Mauritania', 'Mauritius', 'Mayotte', 'Mexico', 'Micronesia, Federated States of', 'Moldova', 'Monaco', 'Mongolia', 'Montenegro', 'Montserrat', 'Morocco', 'Mozambique', 'Myanmar', 'Namibia', 'Nauru', 'Nepal', 'Netherlands', 'Netherlands Antilles', 'New Caledonia', 'New Zealand', 'Nicaragua', 'Niger', 'Nigeria', 'Niue', 'Norfolk Island', 'North Korea', 'Northern Ireland', 'Northern Mariana Islands', 'Norway', 'Oman', 'Pakistan', 'Palau', 'Palestine', 'Panama', 'Papua New Guinea', 'Paraguay', 'Peru', 'Philippines', 'Pitcairn', 'Poland', 'Portugal', 'Puerto Rico', 'Qatar', 'Reunion', 'Romania', 'Russia', 'Rwanda', 'Saint Helena', 'Saint Kitts and Nevis', 'Saint Lucia', 'Saint Pierre and Miquelon', 'Saint Vincent and the Grenadines', 'Samoa', 'San Marino', 'Sao Tome and Principe', 'Saudi Arabia', 'Scotland', 'Senegal', 'Serbia', 'Seychelles', 'Sierra Leone', 'Singapore', 'Slovakia', 'Slovenia', 'Solomon Islands', 'Somalia', 'South Africa', 'South Georgia and the South Sandwich Islands', 'South Korea', 'South Sudan', 'Spain', 'Sri Lanka', 'Sudan', 'Suriname', 'Svalbard and Jan Mayen', 'Swaziland', 'Sweden', 'Switzerland', 'Syria', 'Tajikistan', 'Tanzania', 'Thailand', 'The Democratic Republic of Congo', 'Togo', 'Tokelau', 'Tonga', 'Trinidad and Tobago', 'Tunisia', 'Turkey', 'Turkmenistan', 'Turks and Caicos Islands', 'Tuvalu', 'Uganda', 'Ukraine', 'United Arab Emirates', 'United Kingdom', 'United States', 'United States Minor Outlying Islands', 'Uruguay', 'Uzbekistan', 'Vanuatu', 'Venezuela', 'Vietnam', 'Virgin Islands, British', 'Virgin Islands, U.S.', 'Wales', 'Wallis and Futuna', 'Western Sahara', 'Yemen', 'Zambia', 'Zimbabwe']\n",
      "[37172386, 2866376, 42228429, 55465, 77006, 30809762, 15094, 1106, 96286, 44494502, 2951776, 105845, 24982688, 8840521, 9939800, 385640, 1569439, 161356039, 286641, 9483499, 11433256, 383071, 11485048, 63973, 754394, 11353142, 3323929, 2254126, 0, 209469333, 0, 428962, 7025037, 19751535, 11175378, 555987, 16249798, 25216237, 37057765, 543767, 64174, 4666377, 15477751, 18729160, 1392730000, 1402, 596, 49648685, 832322, 5244363, 17379, 4999441, 4087843, 11338138, 1189265, 10629928, 5793636, 958920, 71625, 10627165, 1267972, 17084357, 98423595, 6420744, 55619400, 1308974, 6213972, 1321977, 109224559, 2840, 48497, 883483, 5515525, 66977107, 290691, 277679, 0, 2119275, 2280102, 3726549, 82905782, 29767108, 33718, 10731726, 56025, 111454, 395700, 165768, 17247807, 12414318, 1874309, 779004, 11123176, 0, 825, 9587522, 7451000, 9775564, 352721, 1352617328, 267663435, 81800269, 38433600, 4867309, 8882800, 60421760, 25069229, 2934855, 126529100, 9956011, 18272430, 51393010, 115847, 4137309, 6322800, 7061507, 1927174, 6848925, 2108132, 4818977, 6678567, 37910, 2801543, 607950, 631636, 2084367, 26262368, 18143315, 31528585, 515696, 19077690, 484630, 58413, 376480, 4403319, 1265303, 270372, 126190788, 112640, 2706049, 38682, 3170208, 631219, 5900, 36029138, 29495962, 53708395, 2448255, 12704, 28087871, 17231624, 227049, 284060, 4841000, 6465513, 22442948, 195874740, 1624, 2169, 25549819, 1885400, 56882, 5311916, 4829483, 212215030, 17907, 4569087, 4176873, 8606316, 6956071, 31989256, 106651922, 67, 37974750, 10283822, 3195153, 2781677, 859959, 19466145, 144478050, 12301939, 6600, 52441, 181889, 5888, 110210, 196130, 33785, 211028, 33699947, 5424800, 15854360, 6963764, 96762, 7650154, 5638676, 5446771, 2073894, 652858, 15008154, 57779622, 30, 51606633, 10975920, 46796540, 21670000, 41801533, 575991, 2572, 1136191, 10175214, 8513227, 16906283, 9100837, 56318348, 69428524, 84068091, 7889094, 1411, 103197, 1389858, 11565204, 82319724, 5850908, 37665, 11508, 42723139, 44622516, 9630959, 66460344, 326687501, 300, 3449299, 32955400, 292680, 28870195, 95540395, 29802, 106977, 3139000, 15289, 652271, 28498687, 17351822, 14439018]\n"
     ]
    }
   ],
   "source": [
    "import json\n",
    "fn='country-by-population.json'\n",
    "with open(fn,'r')as file:\n",
    "    getDatas=json.load(file)\n",
    "\n",
    "country=[]\n",
    "population=[]\n",
    "for getData in getDatas:\n",
    "    country.append(getData['country'])\n",
    "    population.append(getData['population'])\n",
    "print(country)\n",
    "print(population)"
   ]
  }
 ],
 "metadata": {
  "kernelspec": {
   "display_name": "Python 3",
   "language": "python",
   "name": "python3"
  },
  "language_info": {
   "codemirror_mode": {
    "name": "ipython",
    "version": 3
   },
   "file_extension": ".py",
   "mimetype": "text/x-python",
   "name": "python",
   "nbconvert_exporter": "python",
   "pygments_lexer": "ipython3",
   "version": "3.10.14"
  }
 },
 "nbformat": 4,
 "nbformat_minor": 2
}
