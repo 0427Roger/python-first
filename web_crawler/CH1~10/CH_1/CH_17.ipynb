{
 "cells": [
  {
   "cell_type": "code",
   "execution_count": 12,
   "metadata": {},
   "outputs": [],
   "source": [
    "import pygal.maps.world\n",
    "worldMap=pygal.maps.world.World()\n",
    "worldMap.title='China in the Map'\n",
    "worldMap.add('china',['cn'])\n",
    "worldMap.render_to_file('out17.svg')"
   ]
  },
  {
   "cell_type": "code",
   "execution_count": 19,
   "metadata": {},
   "outputs": [],
   "source": [
    "import pygal.maps.world\n",
    "wordMap=pygal.maps.world.World()\n",
    "worldMap.title='China/Japan/Thailand'\n",
    "worldMap.add('Asia',['cn','jp','th'])\n",
    "worldMap.render_to_file('out18.svg')"
   ]
  },
  {
   "cell_type": "code",
   "execution_count": 20,
   "metadata": {},
   "outputs": [],
   "source": [
    "import pygal.maps.world\n",
    "worldMap=pygal.maps.world.World()\n",
    "worldMap.title='Asia,Europe,Africa,and North America'\n",
    "worldMap.add('Asia',['cn','jp','th'])\n",
    "worldMap.add('Europe',['fr','de'])\n",
    "worldMap.add('Africa',['eg','ug'])\n",
    "worldMap.add('North America',['ca','us'])\n",
    "worldMap.render_to_file('out19.svg')"
   ]
  }
 ],
 "metadata": {
  "kernelspec": {
   "display_name": "Python 3",
   "language": "python",
   "name": "python3"
  },
  "language_info": {
   "codemirror_mode": {
    "name": "ipython",
    "version": 3
   },
   "file_extension": ".py",
   "mimetype": "text/x-python",
   "name": "python",
   "nbconvert_exporter": "python",
   "pygments_lexer": "ipython3",
   "version": "3.10.14"
  }
 },
 "nbformat": 4,
 "nbformat_minor": 2
}
