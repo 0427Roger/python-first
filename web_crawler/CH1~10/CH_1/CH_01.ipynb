{
 "cells": [
  {
   "cell_type": "code",
   "execution_count": null,
   "metadata": {},
   "outputs": [],
   "source": [
    "import json\n",
    "object_list={'data':{'height':180,'weight':50,'BMI':20}}\n",
    "with open('CH1_1.json',mode='w') as file:\n",
    "    json.dump(object_list,file)"
   ]
  },
  {
   "cell_type": "code",
   "execution_count": null,
   "metadata": {},
   "outputs": [],
   "source": [
    "import json\n",
    "object_list={'Country_name':[{'日本':'Japan','首都':'Tokyo'},{'美洲':'USA','首都':'Washington'}]}\n",
    "with open('CH1_2.json',mode='w') as file:\n",
    "    json.dump(object_list,file)"
   ]
  },
  {
   "cell_type": "code",
   "execution_count": null,
   "metadata": {},
   "outputs": [],
   "source": [
    "import json\n",
    "object_list={'Country_name':[{'日本':'Japan','首都':'Tokyo'},{'美洲':'USA','首都':'Washington'}]}\n",
    "with open('CH1_3.json',mode='w',encoding='utf-8') as file:\n",
    "    json.dump(object_list,file,ensure_ascii=False,indent=3)"
   ]
  },
  {
   "cell_type": "code",
   "execution_count": null,
   "metadata": {},
   "outputs": [],
   "source": [
    "import json\n",
    "fn='CH1_3.json'\n",
    "with open(fn,mode='r') as file:\n",
    "    data=json.load(file)\n",
    "print(data)\n",
    "print(type(data))\n"
   ]
  }
 ],
 "metadata": {
  "kernelspec": {
   "display_name": "Python 3",
   "language": "python",
   "name": "python3"
  },
  "language_info": {
   "codemirror_mode": {
    "name": "ipython",
    "version": 3
   },
   "file_extension": ".py",
   "mimetype": "text/x-python",
   "name": "python",
   "nbconvert_exporter": "python",
   "pygments_lexer": "ipython3",
   "version": "3.12.3"
  }
 },
 "nbformat": 4,
 "nbformat_minor": 2
}
