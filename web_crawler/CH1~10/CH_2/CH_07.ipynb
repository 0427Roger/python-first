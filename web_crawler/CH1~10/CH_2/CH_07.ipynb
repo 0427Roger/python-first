{
 "cells": [
  {
   "cell_type": "code",
   "execution_count": null,
   "metadata": {},
   "outputs": [],
   "source": [
    "import csv\n",
    "fn='out07.csv'\n",
    "with open(fn,mode='w',newline='') as csvFile:\n",
    "    csvWriter=csv.writer(csvFile)\n",
    "    csvWriter.writerow(['Name','Age','City'])\n",
    "    csvWriter.writerow(['Hung','35','Taipei'])\n",
    "    csvWriter.writerow(['James','40','Chicago'])"
   ]
  },
  {
   "cell_type": "code",
   "execution_count": null,
   "metadata": {},
   "outputs": [],
   "source": [
    "import csv\n",
    "\n",
    "infn='csvReport.csv'\n",
    "outfn='out08.csv'\n",
    "\n",
    "with open(infn) as csvRFile:\n",
    "    csvReader=csv.reader(csvRFile)\n",
    "    listReport=list(csvReader)\n",
    "\n",
    "with open(outfn,mode='w',newline='') as csvOFile:\n",
    "    csvWriter=csv.writer(csvOFile)\n",
    "    for row in listReport:\n",
    "        csvWriter.writerow(row)\n"
   ]
  },
  {
   "cell_type": "code",
   "execution_count": 11,
   "metadata": {},
   "outputs": [],
   "source": [
    "import csv\n",
    "\n",
    "fn='out09.csv'\n",
    "\n",
    "with open(fn,mode='w',newline='') as csvFile:\n",
    "    csvWriter=csv.writer(csvFile,delimiter='\\t')\n",
    "    csvWriter.writerow(['Name','Age','City'])\n",
    "    csvWriter.writerow(['Hung','35','Taipei'])\n",
    "    csvWriter.writerow(['James','40','Chicago'])"
   ]
  },
  {
   "cell_type": "code",
   "execution_count": 16,
   "metadata": {},
   "outputs": [],
   "source": [
    "import csv\n",
    "\n",
    "fn='out10.csv'\n",
    "\n",
    "with open(fn,mode='w',newline='') as csvFile:\n",
    "    fields=['Name','Age','City']\n",
    "    dictWriter=csv.DictWriter(csvFile,fieldnames=fields)\n",
    "    dictWriter.writeheader()\n",
    "    dictWriter.writerow({'Name':'Hung', 'Age':'35', 'City':'Taipei'})\n",
    "    dictWriter.writerow({'Name':'James', 'Age':'40', 'City':'Chicago'})"
   ]
  }
 ],
 "metadata": {
  "kernelspec": {
   "display_name": "env1",
   "language": "python",
   "name": "python3"
  },
  "language_info": {
   "codemirror_mode": {
    "name": "ipython",
    "version": 3
   },
   "file_extension": ".py",
   "mimetype": "text/x-python",
   "name": "python",
   "nbconvert_exporter": "python",
   "pygments_lexer": "ipython3",
   "version": "3.10.14"
  }
 },
 "nbformat": 4,
 "nbformat_minor": 2
}
