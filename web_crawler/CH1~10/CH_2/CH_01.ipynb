{
 "cells": [
  {
   "cell_type": "code",
   "execution_count": null,
   "metadata": {},
   "outputs": [],
   "source": [
    "import csv\n",
    "fn='csvReport.csv'\n",
    "with open(fn) as csvFile:\n",
    "    csvReader=csv.reader(csvFile)\n",
    "    listReport=list(csvReader)\n",
    "print(listReport)"
   ]
  },
  {
   "cell_type": "code",
   "execution_count": null,
   "metadata": {},
   "outputs": [],
   "source": [
    "import csv\n",
    "fn='csvReport.csv'\n",
    "with open(fn) as csvFile:\n",
    "    csvReader=csv.reader(csvFile)\n",
    "    for row in csvReader:\n",
    "        print('Row=',csvReader.line_num,row) \n"
   ]
  },
  {
   "cell_type": "code",
   "execution_count": null,
   "metadata": {},
   "outputs": [],
   "source": [
    "import csv\n",
    "fn='csvReport.csv'\n",
    "with open(fn) as csvFile:\n",
    "    csvReader=csv.reader(csvFile)\n",
    "    listReport=list(csvReader)\n",
    "for row in listReport:\n",
    "    print(row)"
   ]
  },
  {
   "cell_type": "code",
   "execution_count": null,
   "metadata": {},
   "outputs": [],
   "source": [
    "import csv\n",
    "fn='csvPeople.csv'\n",
    "with open(fn) as csvFile:\n",
    "    csvDictReader=csv.DictReader(csvFile)\n",
    "    for row in csvDictReader:\n",
    "        print(row['first_name'],row['last_name'])"
   ]
  }
 ],
 "metadata": {
  "kernelspec": {
   "display_name": "env1",
   "language": "python",
   "name": "python3"
  },
  "language_info": {
   "codemirror_mode": {
    "name": "ipython",
    "version": 3
   },
   "file_extension": ".py",
   "mimetype": "text/x-python",
   "name": "python",
   "nbconvert_exporter": "python",
   "pygments_lexer": "ipython3",
   "version": "3.10.14"
  }
 },
 "nbformat": 4,
 "nbformat_minor": 2
}
