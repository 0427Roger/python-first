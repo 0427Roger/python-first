{
 "cells": [
  {
   "cell_type": "code",
   "execution_count": null,
   "metadata": {},
   "outputs": [],
   "source": [
    "#Download https://raw.githubusercontent.com/roberthsu2003/__2024_02_20_2_4__/main/lesson11/students.csv\n",
    "import requests\n",
    "import io\n",
    "import csv\n",
    "url='https://raw.githubusercontent.com/roberthsu2003/__2024_02_20_2_4__/main/lesson11/students.csv'\n",
    "def main(url):\n",
    "    try:\n",
    "        response=requests.get(url)\n",
    "        response.raise_for_status()\n",
    "    except Exception as e:\n",
    "        print(f'HTTP error occurred:{e}')\n",
    "        return None\n",
    "    else:\n",
    "        if response.status_code != 200:\n",
    "            print('statys code error')\n",
    "            return None\n",
    "    rawString=response.text\n",
    "    file=io.StringIO(rawString)\n",
    "    read=csv.DictReader(file)\n",
    "    data=list(read)\n",
    "    for item in data:\n",
    "        print(item)\n",
    "if __name__=='__main__':\n",
    "    main(url)"
   ]
  }
 ],
 "metadata": {
  "kernelspec": {
   "display_name": "Python 3",
   "language": "python",
   "name": "python3"
  },
  "language_info": {
   "codemirror_mode": {
    "name": "ipython",
    "version": 3
   },
   "file_extension": ".py",
   "mimetype": "text/x-python",
   "name": "python",
   "nbconvert_exporter": "python",
   "pygments_lexer": "ipython3",
   "version": "3.10.13"
  }
 },
 "nbformat": 4,
 "nbformat_minor": 2
}
