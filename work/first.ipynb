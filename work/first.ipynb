{
 "cells": [
  {
   "cell_type": "code",
   "execution_count": 9,
   "metadata": {},
   "outputs": [
    {
     "name": "stdout",
     "output_type": "stream",
     "text": [
      "your name is 12\n",
      "your height is 12,weight is 12\n",
      "BMI is 833.33\n"
     ]
    }
   ],
   "source": [
    "#Calculate BMI\n",
    "name=input(\"input your name:\")\n",
    "height=eval(input(\"input your height(cm):\"))\n",
    "weight=eval(input(\"input your weight(kg):\"))\n",
    "BMI=weight/(height/100)**2\n",
    "print(f\"\"\"your name is {name}\n",
    "your height is {height},weight is {weight}\n",
    "BMI is {BMI:.2f}\"\"\")"
   ]
  }
 ],
 "metadata": {
  "kernelspec": {
   "display_name": "Python 3",
   "language": "python",
   "name": "python3"
  },
  "language_info": {
   "codemirror_mode": {
    "name": "ipython",
    "version": 3
   },
   "file_extension": ".py",
   "mimetype": "text/x-python",
   "name": "python",
   "nbconvert_exporter": "python",
   "pygments_lexer": "ipython3",
   "version": "3.10.13"
  }
 },
 "nbformat": 4,
 "nbformat_minor": 2
}
