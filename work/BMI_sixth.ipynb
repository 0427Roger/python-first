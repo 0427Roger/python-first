{
 "cells": [
  {
   "cell_type": "code",
   "execution_count": 1,
   "metadata": {},
   "outputs": [
    {
     "name": "stdout",
     "output_type": "stream",
     "text": [
      "Name:Emma,BMI:25.73,overweight.\n",
      "Name:Roger,BMI:18.01,underweight.\n",
      "Name:Luse,BMI:21.61,normal weight.\n"
     ]
    }
   ],
   "source": [
    "from pydantic import RootModel,BaseModel\n",
    "import random\n",
    "def create_profile()->list[dict]:\n",
    "    name:list=['Emma','Roger','Luse']\n",
    "    height:list[float]=[random.randint(140,200) for _ in name]\n",
    "    weight:list[float]=[random.randint(45,80) for _ in name]\n",
    "    data=[]\n",
    "    for i in range(len(name)):\n",
    "        person:list[dict]={'name':name[i],'height':height[i],'weight':weight[i]}\n",
    "        data.append(person)\n",
    "        items:Items=Items.model_validate(data)\n",
    "    return items\n",
    "class Item(BaseModel):\n",
    "    name:str\n",
    "    height:float\n",
    "    weight:float\n",
    "    def show(self):\n",
    "        print(f'Name:{self.name},BMI:{self.bmi:.2f},{self.judgment}.')\n",
    "    @property\n",
    "    def bmi(self)->float:\n",
    "        return self.weight/(self.height/100)**2\n",
    "    @property\n",
    "    def judgment(self)->str:\n",
    "        if self.bmi<18.5:\n",
    "            return 'underweight'\n",
    "        elif self.bmi<24:\n",
    "            return 'normal weight'\n",
    "        elif self.bmi<27:\n",
    "            return 'overweight'\n",
    "        elif self.bmi<30:\n",
    "            return 'mild obesity'\n",
    "        elif self.bmi<35:\n",
    "            return 'moderately obesity'\n",
    "        else:\n",
    "            return 'severe obesity'\n",
    "class Items(RootModel):\n",
    "    root:list[Item]\n",
    "    def showAll(self):\n",
    "        for item in self.root:\n",
    "            item.show()\n",
    "    def __iter__(self):\n",
    "        return iter(self.root)\n",
    "    \n",
    "    def __getitem__(self, idx):\n",
    "        return self.root[idx]\n",
    "def main():\n",
    "    items:Items=create_profile()\n",
    "    items.showAll()\n",
    "if __name__=='__main__':\n",
    "    main()"
   ]
  }
 ],
 "metadata": {
  "kernelspec": {
   "display_name": "Python 3",
   "language": "python",
   "name": "python3"
  },
  "language_info": {
   "codemirror_mode": {
    "name": "ipython",
    "version": 3
   },
   "file_extension": ".py",
   "mimetype": "text/x-python",
   "name": "python",
   "nbconvert_exporter": "python",
   "pygments_lexer": "ipython3",
   "version": "3.10.13"
  }
 },
 "nbformat": 4,
 "nbformat_minor": 2
}
