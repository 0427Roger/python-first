{
 "cells": [
  {
   "cell_type": "code",
   "execution_count": 1,
   "metadata": {},
   "outputs": [
    {
     "name": "stdout",
     "output_type": "stream",
     "text": [
      "Download successful.\n"
     ]
    }
   ],
   "source": [
    "import requests\n",
    "from requests import Response\n",
    "\n",
    "\n",
    "def get_Taipei_youbike()->Response|None:\n",
    "    Taipei_youbike_url='https://tcgbusfs.blob.core.windows.net/dotapp/youbike/v2/youbike_immediate.json'\n",
    "    response:Response=requests.get(Taipei_youbike_url)\n",
    "    try:\n",
    "        response.raise_for_status()\n",
    "        if response.status_code==200:\n",
    "            print('Download successful.')\n",
    "            return response\n",
    "        else:\n",
    "            print('Status code error.')\n",
    "            print('Download failed.')\n",
    "            return response\n",
    "        \n",
    "    except Exception as e:\n",
    "        print(f'HTTP error occurred:{e}')\n",
    "        return None\n",
    "response:Response|None=get_Taipei_youbike()"
   ]
  },
  {
   "cell_type": "code",
   "execution_count": 8,
   "metadata": {},
   "outputs": [
    {
     "ename": "TypeError",
     "evalue": "'ModelMetaclass' object is not iterable",
     "output_type": "error",
     "traceback": [
      "\u001b[1;31m---------------------------------------------------------------------------\u001b[0m",
      "\u001b[1;31mTypeError\u001b[0m                                 Traceback (most recent call last)",
      "Cell \u001b[1;32mIn[8], line 11\u001b[0m\n\u001b[0;32m      8\u001b[0m     時間:\u001b[38;5;28mstr\u001b[39m\u001b[38;5;241m=\u001b[39mField(alias\u001b[38;5;241m=\u001b[39m\u001b[38;5;124m'\u001b[39m\u001b[38;5;124mmday\u001b[39m\u001b[38;5;124m'\u001b[39m)\n\u001b[0;32m      9\u001b[0m     可還:\u001b[38;5;28mint\u001b[39m\u001b[38;5;241m=\u001b[39mField(alias\u001b[38;5;241m=\u001b[39m\u001b[38;5;124m'\u001b[39m\u001b[38;5;124mbemp\u001b[39m\u001b[38;5;124m'\u001b[39m)\n\u001b[1;32m---> 11\u001b[0m \u001b[38;5;28;01mclass\u001b[39;00m \u001b[38;5;21;01mSites\u001b[39;00m(RootModel):\n\u001b[0;32m     12\u001b[0m     root:\u001b[38;5;28mlist\u001b[39m(Site)\n\u001b[0;32m     14\u001b[0m rawString\u001b[38;5;241m=\u001b[39mresponse\u001b[38;5;241m.\u001b[39mtext\n",
      "Cell \u001b[1;32mIn[8], line 12\u001b[0m, in \u001b[0;36mSites\u001b[1;34m()\u001b[0m\n\u001b[0;32m     11\u001b[0m \u001b[38;5;28;01mclass\u001b[39;00m \u001b[38;5;21;01mSites\u001b[39;00m(RootModel):\n\u001b[1;32m---> 12\u001b[0m     root:\u001b[38;5;28;43mlist\u001b[39;49m\u001b[43m(\u001b[49m\u001b[43mSite\u001b[49m\u001b[43m)\u001b[49m\n",
      "\u001b[1;31mTypeError\u001b[0m: 'ModelMetaclass' object is not iterable"
     ]
    }
   ],
   "source": [
    "from pydantic import RootModel,BaseModel,Field,field_validator\n",
    "\n",
    "class Site(BaseModel):\n",
    "    站點名稱:str=Field(alias='sna')\n",
    "    總借車輛:int=Field(alias='tot')\n",
    "    可借:int=Field(alias='sbi')\n",
    "    行政區:str=Field(alias='sarea')\n",
    "    時間:str=Field(alias='mday')\n",
    "    可還:int=Field(alias='bemp')\n",
    "\n",
    "class Sites(RootModel):\n",
    "    root:list(Site)\n",
    "\n",
    "rawString=response.text\n",
    "data:Sites=Sites.model_validate_json(rawString)\n",
    "print( i for i in data)"
   ]
  }
 ],
 "metadata": {
  "kernelspec": {
   "display_name": "Python 3",
   "language": "python",
   "name": "python3"
  },
  "language_info": {
   "codemirror_mode": {
    "name": "ipython",
    "version": 3
   },
   "file_extension": ".py",
   "mimetype": "text/x-python",
   "name": "python",
   "nbconvert_exporter": "python",
   "pygments_lexer": "ipython3",
   "version": "3.10.14"
  }
 },
 "nbformat": 4,
 "nbformat_minor": 2
}
