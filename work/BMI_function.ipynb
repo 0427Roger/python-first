{
 "cells": [
  {
   "cell_type": "code",
   "execution_count": 14,
   "metadata": {},
   "outputs": [
    {
     "name": "stdout",
     "output_type": "stream",
     "text": [
      "your height(cm):\n",
      "your weight(kg):\n",
      "Your BMI is 6666.67\n",
      "severe obesity\n"
     ]
    }
   ],
   "source": [
    "#Custom function\n",
    "def input_BMI(proamt:str,min:float=0,max:float=None):\n",
    "    print(proamt)\n",
    "    while True:\n",
    "        try:\n",
    "            value:float=float(input(f'input your value{min}~{max}:'))\n",
    "            if value>min and value<=max:\n",
    "                return value\n",
    "            elif value<=min:\n",
    "                print('input range is too small.')\n",
    "                print(f'{min}~{max}')\n",
    "                continue\n",
    "            elif value>max:\n",
    "                print('input range is too large.')\n",
    "                print(f'{min}~{max}')\n",
    "                continue\n",
    "        except:\n",
    "            print('input format error.')\n",
    "            continue\n",
    "def main():\n",
    "    height=input_BMI('your height(cm):',0,200)\n",
    "    weight=input_BMI('your weight(kg):',0,300)\n",
    "    bmi=weight/(height/100)**2\n",
    "    print(f'Your BMI is {bmi:.2f}')\n",
    "    if bmi<18.5:\n",
    "        print('under weight')\n",
    "    elif bmi<24:\n",
    "        print('normal weight')\n",
    "    elif bmi<27:\n",
    "        print('overweight')\n",
    "    elif bmi<30:\n",
    "        print('mild obesity')\n",
    "    elif bmi<35:\n",
    "        print('moderately obesity')\n",
    "    else:\n",
    "        print('severe obesity')\n",
    "if __name__=='__main__':\n",
    "    main()\n"
   ]
  }
 ],
 "metadata": {
  "kernelspec": {
   "display_name": "Python 3",
   "language": "python",
   "name": "python3"
  },
  "language_info": {
   "codemirror_mode": {
    "name": "ipython",
    "version": 3
   },
   "file_extension": ".py",
   "mimetype": "text/x-python",
   "name": "python",
   "nbconvert_exporter": "python",
   "pygments_lexer": "ipython3",
   "version": "3.12.0"
  }
 },
 "nbformat": 4,
 "nbformat_minor": 2
}
