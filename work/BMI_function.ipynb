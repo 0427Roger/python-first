{
 "cells": [
  {
   "cell_type": "code",
   "execution_count": 5,
   "metadata": {},
   "outputs": [
    {
     "name": "stdout",
     "output_type": "stream",
     "text": [
      "your height(cm):\n",
      "180.0\n",
      "your weight(kg):\n",
      "56.0\n",
      "Your BMI is 17.28\n",
      "under weight\n"
     ]
    }
   ],
   "source": [
    "#Custom function\n",
    "def input_BMI(proamt:str,min:float=0,max:float=None)->float:\n",
    "    while True:\n",
    "        print(proamt)\n",
    "        try:\n",
    "            value:float=float(input(f'input your value {min}~{max}:'))\n",
    "            if value>min and value<=max:\n",
    "                print(value)\n",
    "                return value\n",
    "            elif value<=min:\n",
    "                print('input range is too small.')\n",
    "                print(f'{min}~{max}')\n",
    "                continue\n",
    "            elif value>max:\n",
    "                print('input range is too large.')\n",
    "                print(f'{min}~{max}')\n",
    "                continue\n",
    "        except:\n",
    "            print('input format error.')\n",
    "            continue\n",
    "def main():\n",
    "    height=input_BMI('your height(cm):',0,200)\n",
    "    weight=input_BMI('your weight(kg):',0,300)\n",
    "    bmi=weight/(height/100)**2\n",
    "    print(f'Your BMI is {bmi:.2f}')\n",
    "    if bmi<18.5:\n",
    "        print('under weight')\n",
    "    elif bmi<24:\n",
    "        print('normal weight')\n",
    "    elif bmi<27:\n",
    "        print('overweight')\n",
    "    elif bmi<30:\n",
    "        print('mild obesity')\n",
    "    elif bmi<35:\n",
    "        print('moderately obesity')\n",
    "    else:\n",
    "        print('severe obesity')\n",
    "if __name__=='__main__':\n",
    "    main()\n"
   ]
  }
 ],
 "metadata": {
  "kernelspec": {
   "display_name": "Python 3",
   "language": "python",
   "name": "python3"
  },
  "language_info": {
   "codemirror_mode": {
    "name": "ipython",
    "version": 3
   },
   "file_extension": ".py",
   "mimetype": "text/x-python",
   "name": "python",
   "nbconvert_exporter": "python",
   "pygments_lexer": "ipython3",
   "version": "3.12.0"
  }
 },
 "nbformat": 4,
 "nbformat_minor": 2
}
