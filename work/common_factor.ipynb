{
 "cells": [
  {
   "cell_type": "code",
   "execution_count": 11,
   "metadata": {},
   "outputs": [
    {
     "name": "stdout",
     "output_type": "stream",
     "text": [
      "2\n"
     ]
    }
   ],
   "source": [
    "#Greatest common factor\n",
    "while True:\n",
    "    try:\n",
    "        n1=eval(input())\n",
    "        n2=eval(input())\n",
    "        if n1<n2:\n",
    "                mix_number=n1\n",
    "        else:\n",
    "            mix_number=n2\n",
    "        for i in range(1,1+mix_number):\n",
    "            if n1%i==0 and n2%i==0:\n",
    "                a=i\n",
    "        print(a)\n",
    "        break\n",
    "    except:\n",
    "        continue"
   ]
  }
 ],
 "metadata": {
  "kernelspec": {
   "display_name": "Python 3",
   "language": "python",
   "name": "python3"
  },
  "language_info": {
   "codemirror_mode": {
    "name": "ipython",
    "version": 3
   },
   "file_extension": ".py",
   "mimetype": "text/x-python",
   "name": "python",
   "nbconvert_exporter": "python",
   "pygments_lexer": "ipython3",
   "version": "3.12.0"
  }
 },
 "nbformat": 4,
 "nbformat_minor": 2
}
