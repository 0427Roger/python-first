{
 "cells": [
  {
   "cell_type": "code",
   "execution_count": 14,
   "metadata": {},
   "outputs": [
    {
     "name": "stdout",
     "output_type": "stream",
     "text": [
      "Your BMI is 25.3\n",
      "Overweight\n"
     ]
    }
   ],
   "source": [
    "#Calculate BMI\n",
    "try:\n",
    "    height=eval(input('Input your height(cm):'))\n",
    "    weight=eval(input('input your weight(kg:'))\n",
    "    bmi=weight/(height*0.01)**2\n",
    "    if bmi<0:\n",
    "        print('Input error.')\n",
    "    else:\n",
    "        print(f'Your BMI is {bmi:.1f}')\n",
    "        if bmi>=18.5 and bmi <24:\n",
    "            print('Normal weight')\n",
    "        elif bmi>=23 and bmi<27:\n",
    "            print('Overweight')\n",
    "        elif bmi>=27 and bmi<30:\n",
    "            print('Mild obesity')\n",
    "        elif bmi>=30 and bmi<35:\n",
    "            print('Moderate obesity')\n",
    "        elif bmi>=35:\n",
    "            print('severe obesity')\n",
    "        elif bmi<18.5:\n",
    "            print('Underweight')\n",
    "except:\n",
    "    print('Input format error.')"
   ]
  },
  {
   "cell_type": "code",
   "execution_count": null,
   "metadata": {},
   "outputs": [],
   "source": []
  }
 ],
 "metadata": {
  "kernelspec": {
   "display_name": "Python 3",
   "language": "python",
   "name": "python3"
  },
  "language_info": {
   "codemirror_mode": {
    "name": "ipython",
    "version": 3
   },
   "file_extension": ".py",
   "mimetype": "text/x-python",
   "name": "python",
   "nbconvert_exporter": "python",
   "pygments_lexer": "ipython3",
   "version": "3.10.13"
  }
 },
 "nbformat": 4,
 "nbformat_minor": 2
}
