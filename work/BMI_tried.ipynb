{
 "cells": [
  {
   "cell_type": "code",
   "execution_count": 1,
   "metadata": {},
   "outputs": [
    {
     "name": "stdout",
     "output_type": "stream",
     "text": [
      "Input your height(cm):Blank values are not allowed.\n",
      "Input your height(cm):\n",
      "Input your weight(kg):\n",
      "Your BMI is 9200.0\n",
      "severe obesity\n"
     ]
    }
   ],
   "source": [
    "#Calculate BMI\n",
    "import pyinputplus\n",
    "try:\n",
    "    height=pyinputplus.inputNum('Input your height(cm):')\n",
    "    weight=pyinputplus.inputNum('\\nInput your weight(kg):')\n",
    "    bmi=weight/(height/100)**2\n",
    "    if bmi<0:\n",
    "        print('input error.')\n",
    "    else:\n",
    "        print(f'\\nYour BMI is {bmi:.1f}')\n",
    "        if bmi<18:\n",
    "            print('underweight')\n",
    "        elif bmi<24:\n",
    "            print('normal weight')\n",
    "        elif bmi<27:\n",
    "            print('over weight')\n",
    "        elif bmi<30:\n",
    "            print('mild obesity')\n",
    "        elif bmi<35:\n",
    "            print('moderate obesity')\n",
    "        else:\n",
    "            print('severe obesity')\n",
    "except:\n",
    "    print('input format error.')"
   ]
  }
 ],
 "metadata": {
  "kernelspec": {
   "display_name": "Python 3",
   "language": "python",
   "name": "python3"
  },
  "language_info": {
   "codemirror_mode": {
    "name": "ipython",
    "version": 3
   },
   "file_extension": ".py",
   "mimetype": "text/x-python",
   "name": "python",
   "nbconvert_exporter": "python",
   "pygments_lexer": "ipython3",
   "version": "3.10.13"
  }
 },
 "nbformat": 4,
 "nbformat_minor": 2
}
