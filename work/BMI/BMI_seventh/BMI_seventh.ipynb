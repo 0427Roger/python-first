{
 "cells": [
  {
   "cell_type": "code",
   "execution_count": 19,
   "metadata": {},
   "outputs": [
    {
     "name": "stdout",
     "output_type": "stream",
     "text": [
      "input quantity[{'height': 178, 'names': '陳孝邦', 'weight': 78},\n",
      " {'height': 193, 'names': '簡佳樺', 'weight': 66},\n",
      " {'height': 174, 'names': '王惠皓', 'weight': 59},\n",
      " {'height': 157, 'names': '游詩亞', 'weight': 82},\n",
      " {'height': 215, 'names': '蔡明平', 'weight': 53},\n",
      " {'height': 219, 'names': '陳凱翔', 'weight': 87},\n",
      " {'height': 167, 'names': '簡佳樺', 'weight': 90},\n",
      " {'height': 206, 'names': '周家銘', 'weight': 79},\n",
      " {'height': 205, 'names': '賴又琦', 'weight': 49},\n",
      " {'height': 178, 'names': '鄧淑娟', 'weight': 77},\n",
      " {'height': 200, 'names': '陳怡伶', 'weight': 72},\n",
      " {'height': 173, 'names': '葉祖雄', 'weight': 46},\n",
      " {'height': 214, 'names': '王惠皓', 'weight': 69},\n",
      " {'height': 187, 'names': '陳筱涵', 'weight': 41},\n",
      " {'height': 206, 'names': '黃靜怡', 'weight': 66},\n",
      " {'height': 196, 'names': '周怡啟', 'weight': 76},\n",
      " {'height': 164, 'names': '林珈發', 'weight': 87},\n",
      " {'height': 171, 'names': '陳淑娟', 'weight': 57},\n",
      " {'height': 166, 'names': '劉嘉泰', 'weight': 50},\n",
      " {'height': 153, 'names': '黃名明', 'weight': 64},\n",
      " {'height': 169, 'names': '林淑安', 'weight': 82},\n",
      " {'height': 175, 'names': '楊健麟', 'weight': 48},\n",
      " {'height': 152, 'names': '鄧淑娟', 'weight': 75},\n",
      " {'height': 201, 'names': '錢佩豪', 'weight': 62},\n",
      " {'height': 155, 'names': '吳晴洋', 'weight': 51},\n",
      " {'height': 168, 'names': '黃江旭', 'weight': 73},\n",
      " {'height': 214, 'names': '賴佳雯', 'weight': 66},\n",
      " {'height': 160, 'names': '陳信宏', 'weight': 73},\n",
      " {'height': 159, 'names': '游詩亞', 'weight': 49},\n",
      " {'height': 176, 'names': '李蓉瑞', 'weight': 83},\n",
      " {'height': 195, 'names': '鄭奇翰', 'weight': 40},\n",
      " {'height': 213, 'names': '楊健麟', 'weight': 60},\n",
      " {'height': 166, 'names': '馮淑芬', 'weight': 56},\n",
      " {'height': 216, 'names': '趙家豪', 'weight': 42},\n",
      " {'height': 196, 'names': '楊綺芬', 'weight': 46},\n",
      " {'height': 159, 'names': '陳美惠', 'weight': 43},\n",
      " {'height': 216, 'names': '景歡燦', 'weight': 85},\n",
      " {'height': 176, 'names': '龔姵君', 'weight': 47},\n",
      " {'height': 213, 'names': '藍姿婷', 'weight': 53},\n",
      " {'height': 157, 'names': '黃名明', 'weight': 70},\n",
      " {'height': 157, 'names': '胡淑貞', 'weight': 62},\n",
      " {'height': 199, 'names': '黃翔杰', 'weight': 90},\n",
      " {'height': 218, 'names': '林瑞喬', 'weight': 88},\n",
      " {'height': 212, 'names': '孫宜珊', 'weight': 43},\n",
      " {'height': 199, 'names': '黃靜怡', 'weight': 51},\n",
      " {'height': 205, 'names': '黃佩玲', 'weight': 74},\n",
      " {'height': 160, 'names': '高士凱', 'weight': 86},\n",
      " {'height': 201, 'names': '王筱婷', 'weight': 42},\n",
      " {'height': 213, 'names': '林建勳', 'weight': 85},\n",
      " {'height': 156, 'names': '賴心怡', 'weight': 56}]\n"
     ]
    }
   ],
   "source": [
    "import pyinputplus as pyip\n",
    "import random\n",
    "from pprint import pprint\n",
    "def get_names(nums:int=5)->list[str]:\n",
    "    with(open('names.txt',encoding='utf-8'))as(file):\n",
    "        content:list[str]=file.read().split(sep='\\n')\n",
    "    return random.choices(content,k=nums)\n",
    "items:list[dict]=[]\n",
    "for i in get_names(pyip.inputInt('input quantity',min=0,max=50)):\n",
    "    item={}\n",
    "    item['names']=i\n",
    "    item['height']=random.randint(150,220)\n",
    "    item['weight']=random.randint(40,90)\n",
    "    items.append(item)\n",
    "pprint(items)\n"
   ]
  }
 ],
 "metadata": {
  "kernelspec": {
   "display_name": "Python 3",
   "language": "python",
   "name": "python3"
  },
  "language_info": {
   "codemirror_mode": {
    "name": "ipython",
    "version": 3
   },
   "file_extension": ".py",
   "mimetype": "text/x-python",
   "name": "python",
   "nbconvert_exporter": "python",
   "pygments_lexer": "ipython3",
   "version": "3.10.13"
  }
 },
 "nbformat": 4,
 "nbformat_minor": 2
}
