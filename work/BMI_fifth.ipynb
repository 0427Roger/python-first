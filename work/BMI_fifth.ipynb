{
 "cells": [
  {
   "cell_type": "code",
   "execution_count": 3,
   "metadata": {},
   "outputs": [],
   "source": [
    "from pydantic import RootModel\n",
    "import random\n",
    "name:list=['Emma','Roger','Luse']\n",
    "height:list[int]=[random.randint(140,200) for _ in name]\n",
    "weight:list[int]=[random.randint(45,80)for _ in name]\n",
    "data=[]\n",
    "for item in range(3):\n",
    "    person_data:list[dict]={'name':name[item],'height':height[item],'weight':weight[1]}\n",
    "    data.append(person_data)\n"
   ]
  }
 ],
 "metadata": {
  "kernelspec": {
   "display_name": "Python 3",
   "language": "python",
   "name": "python3"
  },
  "language_info": {
   "codemirror_mode": {
    "name": "ipython",
    "version": 3
   },
   "file_extension": ".py",
   "mimetype": "text/x-python",
   "name": "python",
   "nbconvert_exporter": "python",
   "pygments_lexer": "ipython3",
   "version": "3.12.0"
  }
 },
 "nbformat": 4,
 "nbformat_minor": 2
}
