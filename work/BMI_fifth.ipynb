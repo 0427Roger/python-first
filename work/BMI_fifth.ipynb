{
 "cells": [
  {
   "cell_type": "code",
   "execution_count": 28,
   "metadata": {},
   "outputs": [
    {
     "name": "stdout",
     "output_type": "stream",
     "text": [
      "Name:Emma\n",
      "BMI:22.40\n",
      "normal weight\n",
      "Name:Roger\n",
      "BMI:21.48\n",
      "normal weight\n",
      "Name:Luse\n",
      "BMI:27.04\n",
      "Mild obesity\n"
     ]
    }
   ],
   "source": [
    "from pydantic import BaseModel\n",
    "import random\n",
    "def list():\n",
    "    name:list=['Emma','Roger','Luse']\n",
    "    height:list[float]=[random.randint(140,200) for _ in name]\n",
    "    weight:list[float]=[random.randint(45,80) for _ in name]\n",
    "    data=[]\n",
    "    for item in range(3):\n",
    "        person:list[dict]={'name':name[item],'height':height[item],'weight':weight[item]}\n",
    "        data.append(person)\n",
    "    return data\n",
    "class BMI_validata(BaseModel):\n",
    "    name:str\n",
    "    height:float\n",
    "    weight:float\n",
    "def main():\n",
    "    for data in list():\n",
    "        bmi=BMI_validata.model_validate(data)\n",
    "        print(f'Name:{bmi.name}')\n",
    "        bmi=bmi.weight/(bmi.height/100)**2\n",
    "        print(f'BMI:{bmi:.2f}')\n",
    "        if bmi <18.5:\n",
    "            print('underweight')\n",
    "        elif bmi<24:\n",
    "            print('normal weight')\n",
    "        elif bmi<27:\n",
    "            print('overweight')\n",
    "        elif bmi<30:\n",
    "            print('Mild obesity')\n",
    "        elif bmi<35:\n",
    "            print('Moderately obesity')\n",
    "        else:\n",
    "            print('severe obsity')\n",
    "if __name__=='__main__':\n",
    "    main()\n",
    "    \n",
    "\n",
    "\n",
    "    "
   ]
  }
 ],
 "metadata": {
  "kernelspec": {
   "display_name": "Python 3",
   "language": "python",
   "name": "python3"
  },
  "language_info": {
   "codemirror_mode": {
    "name": "ipython",
    "version": 3
   },
   "file_extension": ".py",
   "mimetype": "text/x-python",
   "name": "python",
   "nbconvert_exporter": "python",
   "pygments_lexer": "ipython3",
   "version": "3.12.0"
  }
 },
 "nbformat": 4,
 "nbformat_minor": 2
}
