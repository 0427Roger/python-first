{
 "cells": [
  {
   "cell_type": "code",
   "execution_count": 2,
   "metadata": {},
   "outputs": [
    {
     "name": "stdout",
     "output_type": "stream",
     "text": [
      "Emma\n",
      "BMI:21.23\n",
      "normal weight\n",
      "========\n",
      "Roger\n",
      "BMI:17.92\n",
      "underweight\n",
      "========\n",
      "Luse\n",
      "BMI:18.61\n",
      "normal weight\n",
      "========\n"
     ]
    }
   ],
   "source": [
    "import random\n",
    "def items()->list[dict]:\n",
    "    name:list=['Emma','Roger','Luse']\n",
    "    height:list[float]=[random.randint(140,200) for _ in name]\n",
    "    weight:list[float]=[random.randint(45,80) for _ in name]\n",
    "    data=[]\n",
    "    count=0\n",
    "    for _ in name:\n",
    "        count+=1\n",
    "    for item in range(count):\n",
    "        person:list[dict]={'name':name[item],'height':height[item],'weight':weight[item]}\n",
    "        data.append(person)\n",
    "    return data\n",
    "def main():\n",
    "    for item in items():\n",
    "        bmi=item['weight']/(item['height']/100)**2\n",
    "        print(item['name'])\n",
    "        print(f'BMI:{bmi:.2f}')\n",
    "        if bmi <18.5:\n",
    "            print('underweight')\n",
    "        elif bmi<24:\n",
    "            print('normal weight')\n",
    "        elif bmi<27:\n",
    "            print('overweight')\n",
    "        elif bmi<30:\n",
    "            print('Mild obesity')\n",
    "        elif bmi<35:\n",
    "            print('Moderately obesity')\n",
    "        else:\n",
    "            print('severe obsity')\n",
    "        print('========')\n",
    "if __name__=='__main__':\n",
    "    main()\n",
    "    \n",
    "\n",
    "\n",
    "    "
   ]
  }
 ],
 "metadata": {
  "kernelspec": {
   "display_name": "Python 3",
   "language": "python",
   "name": "python3"
  },
  "language_info": {
   "codemirror_mode": {
    "name": "ipython",
    "version": 3
   },
   "file_extension": ".py",
   "mimetype": "text/x-python",
   "name": "python",
   "nbconvert_exporter": "python",
   "pygments_lexer": "ipython3",
   "version": "3.12.0"
  }
 },
 "nbformat": 4,
 "nbformat_minor": 2
}
