{
 "cells": [
  {
   "cell_type": "code",
   "execution_count": 35,
   "metadata": {},
   "outputs": [
    {
     "name": "stdout",
     "output_type": "stream",
     "text": [
      "['Emma', 'Roger', 'Luse']\n",
      "[173, 146, 195]\n",
      "[52, 60, 50]\n",
      "{'name': 'Luse', 'height': 195, 'weight': 60}\n"
     ]
    }
   ],
   "source": [
    "import random\n",
    "name:list=['Emma','Roger','Luse']\n",
    "height:list[int]=[random.randint(140,200) for _ in name]\n",
    "weight:list[int]=[random.randint(45,80)for _ in name]\n",
    "print(name)\n",
    "print(height)\n",
    "print(weight)\n",
    "for item in range(3):\n",
    "    data:list[dict]={'name':name[item],'height':height[item],'weight':weight[1]}\n",
    "print(data)"
   ]
  }
 ],
 "metadata": {
  "kernelspec": {
   "display_name": "Python 3",
   "language": "python",
   "name": "python3"
  },
  "language_info": {
   "codemirror_mode": {
    "name": "ipython",
    "version": 3
   },
   "file_extension": ".py",
   "mimetype": "text/x-python",
   "name": "python",
   "nbconvert_exporter": "python",
   "pygments_lexer": "ipython3",
   "version": "3.12.0"
  }
 },
 "nbformat": 4,
 "nbformat_minor": 2
}
