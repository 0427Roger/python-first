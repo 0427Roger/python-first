{
 "cells": [
  {
   "cell_type": "code",
   "execution_count": null,
   "metadata": {},
   "outputs": [],
   "source": [
    "import matplotlib.pyplot as plt\n",
    "import numpy as np\n",
    "import pandas as pd\n",
    "\n",
    "x=np.arange(1,51)\n",
    "y=1/(x*2-1)\n",
    "figure,axes=plt.subplots()\n",
    "\n",
    "axes.plot(x,y)\n",
    "# axes.set_xlim(0,5)\n",
    "\n",
    "plt.show()\n",
    "\n",
    "df=pd.DataFrame([x,y]).T\n",
    "df=df.reindex(index=range(1,51))\n",
    "display(df)"
   ]
  },
  {
   "cell_type": "code",
   "execution_count": null,
   "metadata": {},
   "outputs": [],
   "source": [
    "import pandas as pd\n",
    "\n",
    "data = {'city': ['New York', 'Paris', 'London', 'Tokyo']}\n",
    "df = pd.DataFrame(data)\n",
    "\n",
    "# 检查城市是否属于指定的一组城市\n",
    "cities_to_check = ['Paris', 'London', 'Berlin']\n",
    "df['is_in_europe'] = df['city'].isin(cities_to_check)\n",
    "\n",
    "display(df)\n"
   ]
  }
 ],
 "metadata": {
  "kernelspec": {
   "display_name": "env1",
   "language": "python",
   "name": "python3"
  },
  "language_info": {
   "codemirror_mode": {
    "name": "ipython",
    "version": 3
   },
   "file_extension": ".py",
   "mimetype": "text/x-python",
   "name": "python",
   "nbconvert_exporter": "python",
   "pygments_lexer": "ipython3",
   "version": "3.10.14"
  }
 },
 "nbformat": 4,
 "nbformat_minor": 2
}
