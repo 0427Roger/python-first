{
 "cells": [
  {
   "cell_type": "code",
   "execution_count": 1,
   "metadata": {},
   "outputs": [
    {
     "name": "stdout",
     "output_type": "stream",
     "text": [
      
     ]
    }
   ],
   "source": [
    "import requests\n",
    "import io\n",
    "import csv\n",
    "import pprint\n",
    "\n",
    "url='https://raw.githubusercontent.com/roberthsu2003/__2024_02_20_2_4__/main/lesson11/students.csv'\n",
    "response=requests.get(url)\n",
    "\n",
    "##########################\n",
    "\n",
    "rawString=response.text\n",
    "file=io.StringIO(rawString) #test to str\n",
    "reader=csv.DictReader(file) #str to iterable\n",
    "data=list(reader) #iterable to list\n",
    "pprint.pprint(data)"
   ]
  }
 ],
 "metadata": {
  "kernelspec": {
   "display_name": "Python 3",
   "language": "python",
   "name": "python3"
  },
  "language_info": {
   "codemirror_mode": {
    "name": "ipython",
    "version": 3
   },
   "file_extension": ".py",
   "mimetype": "text/x-python",
   "name": "python",
   "nbconvert_exporter": "python",
   "pygments_lexer": "ipython3",
   "version": "3.10.13"
  }
 },
 "nbformat": 4,
 "nbformat_minor": 2
}
