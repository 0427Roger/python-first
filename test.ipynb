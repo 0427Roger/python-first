{
 "cells": [
  {
   "cell_type": "code",
   "execution_count": 24,
   "metadata": {},
   "outputs": [
    {
     "name": "stdout",
     "output_type": "stream",
     "text": [
      "Download successful.\n"
     ]
    }
   ],
   "source": [
    "import requests\n",
    "from requests import Response\n",
    "from pydantic import RootModel,BaseModel,Field\n",
    "import pandas as pd\n",
    "\n",
    "\n",
    "\n",
    "def get_Taipei_youbike()->Response|None:\n",
    "    Taipei_youbike_url='https://tcgbusfs.blob.core.windows.net/dotapp/youbike/v2/youbike_immediate.json'\n",
    "    response:Response=requests.get(Taipei_youbike_url)\n",
    "    try:\n",
    "        response.raise_for_status()\n",
    "        if response.status_code==200:\n",
    "            print('Download successful.')\n",
    "            return response\n",
    "        else:\n",
    "            print('Status code error.')\n",
    "            print('Download failed.')\n",
    "            return None\n",
    "    except Exception as e:\n",
    "        print(f'HTTP error occurred:{e}')\n",
    "        return None\n",
    "\n",
    "class Site(BaseModel):\n",
    "    站點名稱:str=Field(alias='sna')\n",
    "    總借車輛:int=Field(alias='tot')\n",
    "    可借:int=Field(alias='sbi')\n",
    "    行政區:str=Field(alias='sarea')\n",
    "    時間:str=Field(alias='mday')\n",
    "    可還:int=Field(alias='bemp')\n",
    "\n",
    "class Sites(RootModel):\n",
    "    root:list[Site]\n",
    "\n",
    "def main():\n",
    "    response:Response=get_Taipei_youbike()\n",
    "    if response:\n",
    "        rawString:str=response.text\n",
    "    data:list[dict]=Sites.model_validate_json(rawString)\n",
    "    return pd.DataFrame(data)\n",
    "if __name__=='__main__':\n",
    "    main()"
   ]
  },
  {
   "cell_type": "code",
   "execution_count": 31,
   "metadata": {},
   "outputs": [
    {
     "name": "stdout",
     "output_type": "stream",
     "text": [
      "Download successful.\n"
     ]
    }
   ],
   "source": [
    "def main():\n",
    "    response:Response|None=get_Taipei_youbike()\n",
    "    if response:\n",
    "        rawString:str=response.text\n",
    "    data:Sites=Sites.model_validate_json(rawString)\n",
    "    download:list[dict]=data.model_dump()\n",
    "    return pd.DataFrame(download)\n",
    "if __name__=='__main__':\n",
    "    main()"
   ]
  }
 ],
 "metadata": {
  "kernelspec": {
   "display_name": "Python 3",
   "language": "python",
   "name": "python3"
  },
  "language_info": {
   "codemirror_mode": {
    "name": "ipython",
    "version": 3
   },
   "file_extension": ".py",
   "mimetype": "text/x-python",
   "name": "python",
   "nbconvert_exporter": "python",
   "pygments_lexer": "ipython3",
   "version": "3.10.14"
  }
 },
 "nbformat": 4,
 "nbformat_minor": 2
}
