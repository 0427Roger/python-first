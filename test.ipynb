{
 "cells": [
  {
   "cell_type": "code",
   "execution_count": null,
   "metadata": {},
   "outputs": [],
   "source": [
    "import requests\n",
    "from requests import Response\n",
    "from pydantic import BaseModel,RootModel,Field\n",
    "from io import StringIO\n",
    "from csv import DictReader\n",
    "\n",
    "\n",
    "url='https://data.moa.gov.tw/Service/OpenData/TransService.aspx?UnitId=ESYIKDB7CpoR&FOTT=CSV&IsTransData=1'\n",
    "response:Response=requests.get(url)\n",
    "try:\n",
    "    response.raise_for_status()\n",
    "    if response.status_code==200:\n",
    "        print('Download successful')\n",
    "    else:\n",
    "        print('Download failed')\n",
    "except Exception as e:\n",
    "    print(f'error:{e}')\n",
    "\n",
    "if response:\n",
    "    rawString:str=response.text\n",
    "file:StringIO=StringIO(rawString)\n",
    "read:DictReader=DictReader(file)\n",
    "data:list[dict]=list(read)\n",
    "for i in data:\n",
    "    print(i)"
   ]
  },
  {
   "cell_type": "code",
   "execution_count": null,
   "metadata": {},
   "outputs": [],
   "source": [
    "import requests\n",
    "from requests import Response\n",
    "def get_json_url()->Response|None:\n",
    "    url='https://tcgbusfs.blob.core.windows.net/dotapp/youbike/v2/youbike_immediate.json'\n",
    "    response:Response=requests.get(url)\n",
    "    try:\n",
    "        response.raise_for_status()\n",
    "        if response.status_code==200:\n",
    "            print('Download successful.')\n",
    "            return response\n",
    "        else:\n",
    "            print('Status error')\n",
    "            print('Download failed.')\n",
    "            return None\n",
    "    except Exception as e:\n",
    "        print(f'HTTP error occurrd:{e}')\n",
    "        return None\n",
    "response:Response=get_json_url()"
   ]
  },
  {
   "cell_type": "code",
   "execution_count": null,
   "metadata": {},
   "outputs": [],
   "source": [
    "import requests\n",
    "from requests import Response\n",
    "from pydantic import BaseModel,RootModel,Field,field_validator\n",
    "import pandas as pd\n",
    "\n",
    "class Site(BaseModel):\n",
    "    tot:int\n",
    "    sbi:int\n",
    "\n",
    "class Sites(RootModel):\n",
    "     root:list[Site]\n",
    "\n",
    "if response:\n",
    "    rawString=response.text\n",
    "data:list=Sites.model_validate_json(rawString)\n",
    "download:list[dict]=data.model_dump()\n",
    "pd.DataFrame(download)\n"
   ]
  },
  {
   "cell_type": "code",
   "execution_count": 11,
   "metadata": {},
   "outputs": [
    {
     "name": "stdout",
     "output_type": "stream",
     "text": [
      "error:invalid literal for int() with base 10: ''\n",
      "C\n"
     ]
    }
   ],
   "source": [
    "#0~60 grade:C\n",
    "#60~90 grade:B\n",
    "#90~100 grade:A\n",
    "def inputint(promat:str=None,min:int=0,max:int=100):\n",
    "    while True:\n",
    "        try:\n",
    "            score=int(input(f'{promat} {min}~{max}:'))\n",
    "            if score<min or score>max:\n",
    "                print(f'input range error {min}~{max}')\n",
    "                continue\n",
    "            else:\n",
    "                return score\n",
    "        except Exception as e:\n",
    "            print(f'error:{e}')\n",
    "            continue\n",
    "def range(score:int)->str:\n",
    "    if score<=60:\n",
    "        range='C'\n",
    "    elif score<=90:\n",
    "        range='B'\n",
    "    else:\n",
    "        range='A'\n",
    "    return range\n",
    "score=inputint('input student score:')\n",
    "range=range(score)\n",
    "print(range)"
   ]
  },
  {
   "cell_type": "code",
   "execution_count": 17,
   "metadata": {},
   "outputs": [
    {
     "name": "stdout",
     "output_type": "stream",
     "text": [
      "input range error 0~100\n",
      "input range error 0~100\n",
      "input range error 0~100\n",
      "A\n"
     ]
    }
   ],
   "source": [
    "range={\n",
    "    (0,60):'C',\n",
    "    (60,90):'B',\n",
    "    (90,100):'A'\n",
    "}\n",
    "score=inputint('input studen score:')\n",
    "for score_range,grade in range.items():\n",
    "    if score>=score_range[0] and score<=score_range[1]:\n",
    "        print(grade)"
   ]
  }
 ],
 "metadata": {
  "kernelspec": {
   "display_name": "Python 3",
   "language": "python",
   "name": "python3"
  },
  "language_info": {
   "codemirror_mode": {
    "name": "ipython",
    "version": 3
   },
   "file_extension": ".py",
   "mimetype": "text/x-python",
   "name": "python",
   "nbconvert_exporter": "python",
   "pygments_lexer": "ipython3",
   "version": "3.10.13"
  }
 },
 "nbformat": 4,
 "nbformat_minor": 2
}
