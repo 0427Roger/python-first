{
 "cells": [
  {
   "cell_type": "code",
   "execution_count": 2,
   "metadata": {},
   "outputs": [
    {
     "name": "stdout",
     "output_type": "stream",
     "text": [
      "{'name': 'Emma', 'height': 194, 'weight': 58}\n",
      "{'name': 'Roger', 'height': 187, 'weight': 66}\n",
      "{'name': 'Luse', 'height': 155, 'weight': 75}\n"
     ]
    }
   ],
   "source": [
    "import random\n",
    "from pydantic import BaseModel\n",
    "from typing import List\n",
    "\n",
    "def items() -> List[dict]:\n",
    "    name = ['Emma', 'Roger', 'Luse']\n",
    "    height = [random.randint(140, 200) for _ in name]\n",
    "    weight = [random.randint(45, 80) for _ in name]\n",
    "    data = []\n",
    "    for i in range(len(name)):\n",
    "        person = {'name': name[i], 'height': height[i], 'weight': weight[i]}\n",
    "        data.append(person)\n",
    "    return data\n",
    "\n",
    "class Items(BaseModel):\n",
    "    items: List[dict]\n",
    "\n",
    "    @classmethod\n",
    "    def model_validate(cls) -> 'Items':\n",
    "        item_data = items()\n",
    "        return cls(items=item_data)\n",
    "\n",
    "items_data = Items.model_validate()\n",
    "for item in items_data.items:\n",
    "    print(item)\n"
   ]
  },
  {
   "cell_type": "code",
   "execution_count": 3,
   "metadata": {},
   "outputs": [
    {
     "name": "stdout",
     "output_type": "stream",
     "text": [
      "姓名: 徐xx, BMI: 24.61810377477591, 過重\n",
      "姓名: 王xx, BMI: 26.573129251700685, 過重\n",
      "姓名: 張xx, BMI: 23.291229956104985, 正常範圍\n"
     ]
    }
   ],
   "source": [
    "from pydantic import BaseModel, RootModel\n",
    "\n",
    "class Item(BaseModel):\n",
    "    name:str\n",
    "    height:float\n",
    "    weight:float\n",
    "\n",
    "    def show(self):\n",
    "        print(f'姓名: {self.name}, BMI: {self.bmi}, {self.judgment}')\n",
    "\n",
    "    @property\n",
    "    def bmi(self) -> float:\n",
    "        return self.weight / (self.height / 100) ** 2\n",
    "    \n",
    "    @property\n",
    "    def judgment(self) -> str:\n",
    "        if self.bmi < 18.5:\n",
    "            return '體重過輕'\n",
    "        elif self.bmi < 24:\n",
    "            return '正常範圍'\n",
    "        elif self.bmi < 27:\n",
    "            return '過重'\n",
    "        elif self.bmi < 30:\n",
    "            return '輕度肥胖'\n",
    "        elif self.bmi < 35:\n",
    "            return '中度肥胖'\n",
    "        else:\n",
    "            return '重度肥胖'\n",
    "\n",
    "############################\n",
    "\n",
    "class Items(RootModel):\n",
    "    root:list[Item]\n",
    "\n",
    "    def showAll(self):\n",
    "        for item in self.root:\n",
    "            item.show()\n",
    "\n",
    "    def __iter__(self):\n",
    "        return iter(self.root)\n",
    "    \n",
    "    def __getitem__(self, idx):\n",
    "        return self.root[idx]\n",
    "\n",
    "############################\n",
    "\n",
    "def getItems() -> Items:\n",
    "    names:list[dict] = [\n",
    "        {'name':'徐xx','height':178,'weight':78},\n",
    "        {'name':'王xx','height':168,'weight':75},\n",
    "        {'name':'張xx','height':183,'weight':78}\n",
    "    ]\n",
    "\n",
    "    items:Items = Items.model_validate(names)\n",
    "\n",
    "    return items\n",
    "\n",
    "############################\n",
    "\n",
    "def main():\n",
    "    items:Items = getItems()\n",
    "    items.showAll()\n",
    "\n",
    "main()\n"
   ]
  },
  {
   "cell_type": "code",
   "execution_count": 14,
   "metadata": {},
   "outputs": [
    {
     "name": "stdout",
     "output_type": "stream",
     "text": [
      "Name: Emma, BMI: 17.43, underweight.\n",
      "Name: Roger, BMI: 36.17, severe obesity.\n",
      "Name: Luse, BMI: 19.82, normal weight.\n"
     ]
    }
   ],
   "source": [
    "from pydantic import BaseModel\n",
    "import random\n",
    "\n",
    "def create_profile() -> list[dict]:\n",
    "    name = ['Emma', 'Roger', 'Luse']\n",
    "    height = [random.randint(140, 200) for _ in name]\n",
    "    weight = [random.randint(45, 80) for _ in name]\n",
    "    data = []\n",
    "    for i in range(len(name)):\n",
    "        person = {'name': name[i], 'height': height[i], 'weight': weight[i]}\n",
    "        data.append(person)\n",
    "    return data\n",
    "\n",
    "class Item(BaseModel):\n",
    "    name: str\n",
    "    height: float\n",
    "    weight: float\n",
    "\n",
    "    def show(self):\n",
    "        print(f'Name: {self.name}, BMI: {self.bmi:.2f}, {self.judgment}.')\n",
    "\n",
    "    @property\n",
    "    def bmi(self) -> float:\n",
    "        return self.weight / (self.height / 100) ** 2\n",
    "\n",
    "    @property\n",
    "    def judgment(self) -> str:\n",
    "        if self.bmi < 18.5:\n",
    "            return 'underweight'\n",
    "        elif self.bmi < 24:\n",
    "            return 'normal weight'\n",
    "        elif self.bmi < 27:\n",
    "            return 'overweight'\n",
    "        elif self.bmi < 30:\n",
    "            return 'mild obesity'\n",
    "        elif self.bmi < 35:\n",
    "            return 'moderately obesity'\n",
    "        else:\n",
    "            return 'severe obesity'\n",
    "\n",
    "class Items(BaseModel):\n",
    "    root: list[Item]\n",
    "\n",
    "    def showAll(self):\n",
    "        for item in self.root:\n",
    "            item.show()\n",
    "\n",
    "    def __iter__(self):\n",
    "        return iter(self.root)\n",
    "    \n",
    "    def __getitem__(self, idx):\n",
    "        return self.root[idx]\n",
    "\n",
    "def main():\n",
    "    data = create_profile()\n",
    "    items = Items(root=[Item(**item) for item in data])\n",
    "    items.showAll()\n",
    "\n",
    "if __name__ == '__main__':\n",
    "    main()\n"
   ]
  },
  {
   "cell_type": "code",
   "execution_count": 17,
   "metadata": {},
   "outputs": [
    {
     "name": "stdout",
     "output_type": "stream",
     "text": [
      "[3, 2, 4, 5, 3, {'1': 2}, 1, 1, 1]\n",
      "[3, 2, 4, 5, 3]\n",
      "[3, 2, 4, 1, 3, {'1': 2}, 1, 1, 1]\n"
     ]
    }
   ],
   "source": [
    "a3=[]\n",
    "a1=[3,2,4,5,3]\n",
    "a2=[{'1':2},1,1,1]\n",
    "a3.extend(a1)\n",
    "a3.extend(a2)\n",
    "print(a3)\n",
    "a3[3]=1\n",
    "print(a1)\n",
    "print(a3)"
   ]
  }
 ],
 "metadata": {
  "kernelspec": {
   "display_name": "Python 3",
   "language": "python",
   "name": "python3"
  },
  "language_info": {
   "codemirror_mode": {
    "name": "ipython",
    "version": 3
   },
   "file_extension": ".py",
   "mimetype": "text/x-python",
   "name": "python",
   "nbconvert_exporter": "python",
   "pygments_lexer": "ipython3",
   "version": "3.12.0"
  }
 },
 "nbformat": 4,
 "nbformat_minor": 2
}
