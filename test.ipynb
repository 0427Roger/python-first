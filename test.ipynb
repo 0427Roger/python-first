{
 "cells": [
  {
   "cell_type": "code",
   "execution_count": 30,
   "metadata": {},
   "outputs": [
    {
     "name": "stdout",
     "output_type": "stream",
     "text": [
      "error:404 Client Error: The specified blob does not exist. for url: https://tcgbusfs.blob.core.windows.net/dotapp/youbike/v2/youbike_immediate.csv\n"
     ]
    }
   ],
   "source": [
    "import requests\n",
    "from requests import Response\n",
    "from pydantic import BaseModel,RootModel,Field\n",
    "from io import StringIO\n",
    "from csv import DictReader\n",
    "\n",
    "\n",
    "url='https://tcgbusfs.blob.core.windows.net/dotapp/youbike/v2/youbike_immediate.csv'\n",
    "response:Response=requests.get(url)\n",
    "try:\n",
    "    response.raise_for_status()\n",
    "    if response.status_code==200:\n",
    "        print('Download successful')\n",
    "    else:\n",
    "        print('Download failed')\n",
    "except Exception as e:\n",
    "    print(f'error:{e}')\n",
    "\n",
    "if response:\n",
    "    rawString:str=response.text\n",
    "file:StringIO=StringIO(rawString)\n",
    "read:DictReader=DictReader(file)\n",
    "data:list[dict]=list(read)\n",
    "for i in data:\n",
    "    print(i)"
   ]
  },
  {
   "cell_type": "code",
   "execution_count": null,
   "metadata": {},
   "outputs": [],
   "source": [
    "class site(BaseModel):\n",
    "    "
   ]
  }
 ],
 "metadata": {
  "kernelspec": {
   "display_name": "Python 3",
   "language": "python",
   "name": "python3"
  },
  "language_info": {
   "codemirror_mode": {
    "name": "ipython",
    "version": 3
   },
   "file_extension": ".py",
   "mimetype": "text/x-python",
   "name": "python",
   "nbconvert_exporter": "python",
   "pygments_lexer": "ipython3",
   "version": "3.10.13"
  }
 },
 "nbformat": 4,
 "nbformat_minor": 2
}
