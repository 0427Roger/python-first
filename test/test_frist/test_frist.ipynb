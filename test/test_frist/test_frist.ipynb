{
 "cells": [
  {
   "cell_type": "code",
   "execution_count": 2,
   "metadata": {},
   "outputs": [
    {
     "name": "stdout",
     "output_type": "stream",
     "text": [
      "input one number(1~50)Save complete\n"
     ]
    }
   ],
   "source": [
    "import random\n",
    "import pyinputplus\n",
    "import csv\n",
    "from csv import DictWriter\n",
    "def get_names(nums:int=5)->list[dict]:\n",
    "    with(open('names.txt',mode='r',encoding='utf-8',newline=''))as(file):\n",
    "        content:str=file.read()\n",
    "        content_list:list[str]=content.split(sep='\\n')\n",
    "        random_names:list[str]=random.choices(content_list,k=nums)\n",
    "        return random_names\n",
    "def get_scores(names:list[str])->list[dict]:\n",
    "    items=[]\n",
    "    for name in names:\n",
    "        item={}\n",
    "        item['name']=name\n",
    "        item['nature']=random.randint(40,100)\n",
    "        item['physics']=random.randint(40,100)\n",
    "        item['history']=random.randint(40,100)\n",
    "        items.append(item)\n",
    "    return items\n",
    "def archive_csv(scores:list[dict])->csv:\n",
    "    with(open('student.csv',mode='w',encoding='utf-8',newline=''))as(file):\n",
    "        writer:DictWriter=csv.DictWriter(file,fieldnames=['name','nature','physics','history'])\n",
    "        writer.writeheader()\n",
    "        writer.writerows(scores)\n",
    "    switch=file.closed\n",
    "    if switch==True:\n",
    "        print('Save complete')\n",
    "def main():\n",
    "    nums:int=pyinputplus.inputInt('input one number(1~50)',min=1,max=50)\n",
    "    names:list[str]=get_names(nums)\n",
    "    scores:list[dict]=get_scores(names)\n",
    "    archive:csv=archive_csv(scores)\n",
    "if __name__=='__main__':\n",
    "    main()\n",
    "\n"
   ]
  }
 ],
 "metadata": {
  "kernelspec": {
   "display_name": "Python 3",
   "language": "python",
   "name": "python3"
  },
  "language_info": {
   "codemirror_mode": {
    "name": "ipython",
    "version": 3
   },
   "file_extension": ".py",
   "mimetype": "text/x-python",
   "name": "python",
   "nbconvert_exporter": "python",
   "pygments_lexer": "ipython3",
   "version": "3.10.13"
  }
 },
 "nbformat": 4,
 "nbformat_minor": 2
}
