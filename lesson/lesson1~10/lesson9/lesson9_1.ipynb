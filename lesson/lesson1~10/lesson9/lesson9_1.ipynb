{
 "cells": [
  {
   "cell_type": "code",
   "execution_count": null,
   "metadata": {},
   "outputs": [],
   "source": [
    "class Person():\n",
    "    def __init__(self,n:str)->str:\n",
    "        self.name=n\n",
    "    def exclaim(self):\n",
    "        print(f'your name {self.name}.')\n",
    "class Students(Person):\n",
    "    def __init__(self,n:str,nature:int=0,history:int=0):\n",
    "        super().__init__(n=n)\n",
    "        self.nature=nature\n",
    "        self.history=history\n",
    "    def sum(self):\n",
    "        return self.nature+self.history\n",
    "    @property\n",
    "    def average(self)->float:\n",
    "        return self.sum()/2\n",
    "\n",
    "\n",
    "        \n",
    "\n"
   ]
  },
  {
   "cell_type": "code",
   "execution_count": null,
   "metadata": {},
   "outputs": [],
   "source": [
    "student=Students(n='Roger',nature=90,history=30)\n",
    "print(type(stu1))\n",
    "print(student.exclaim())\n",
    "print(student.nature)\n",
    "print(student.history)\n",
    "print(student.sum())\n",
    "print(student.average)"
   ]
  }
 ],
 "metadata": {
  "kernelspec": {
   "display_name": "Python 3",
   "language": "python",
   "name": "python3"
  },
  "language_info": {
   "codemirror_mode": {
    "name": "ipython",
    "version": 3
   },
   "file_extension": ".py",
   "mimetype": "text/x-python",
   "name": "python",
   "nbconvert_exporter": "python",
   "pygments_lexer": "ipython3",
   "version": "3.12.0"
  }
 },
 "nbformat": 4,
 "nbformat_minor": 2
}
