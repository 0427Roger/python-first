{
 "cells": [
  {
   "cell_type": "code",
   "execution_count": null,
   "metadata": {},
   "outputs": [],
   "source": [
    "#Dictionary\n",
    "#Map\n",
    "scores:dict['str':int]={\n",
    "        'chinese':80,\n",
    "        'english':70,\n",
    "        'nature':10,\n",
    "        'physics':90\n",
    "        }\n",
    "print(scores)"
   ]
  },
  {
   "cell_type": "code",
   "execution_count": null,
   "metadata": {},
   "outputs": [],
   "source": [
    "#Subscript\n",
    "print(scores['chinese'])"
   ]
  },
  {
   "cell_type": "code",
   "execution_count": null,
   "metadata": {},
   "outputs": [],
   "source": [
    "for key in scores:\n",
    "    print(f'{key}:{scores[key]}')"
   ]
  },
  {
   "cell_type": "code",
   "execution_count": null,
   "metadata": {},
   "outputs": [],
   "source": [
    "#Dictionary\n",
    "import random\n",
    "scores:dict={}\n",
    "for item in ['physics','nature','science']:\n",
    "    scores[item]=random.randint(50,100)\n",
    "print(scores)\n"
   ]
  },
  {
   "cell_type": "code",
   "execution_count": null,
   "metadata": {},
   "outputs": [],
   "source": [
    "#two-dimensional data\n",
    "data=[\n",
    "    {'name':'Emma','height':180,'weight':56},\n",
    "    {'name':'James','height':170,'weight':80,},\n",
    "    {'name':'Sophia','height':130,'weight':40}\n",
    "    ]\n",
    "for people in data:\n",
    "    print(people['name'])\n",
    "    print(people['height'])\n",
    "    print(people['weight'])\n",
    "    print('=============')"
   ]
  },
  {
   "cell_type": "code",
   "execution_count": null,
   "metadata": {},
   "outputs": [],
   "source": [
    "students=[\n",
    "    {'name':'Olivia','Nature':80,'physics':90,'history':85},\n",
    "    {'name':'Noah','Nature':70,'physics':93,'history':93},\n",
    "    {'name':'Isabella','Nature':84,'physics':94,'history':94}\n",
    "]\n",
    "for student in students:\n",
    "    print(student['name'])\n",
    "    total=student['Nature']+student['physics']+student['history']\n",
    "    print(f'total score {total}.')\n",
    "    print('============')"
   ]
  }
 ],
 "metadata": {
  "kernelspec": {
   "display_name": "Python 3",
   "language": "python",
   "name": "python3"
  },
  "language_info": {
   "codemirror_mode": {
    "name": "ipython",
    "version": 3
   },
   "file_extension": ".py",
   "mimetype": "text/x-python",
   "name": "python",
   "nbconvert_exporter": "python",
   "pygments_lexer": "ipython3",
   "version": "3.12.0"
  }
 },
 "nbformat": 4,
 "nbformat_minor": 2
}
