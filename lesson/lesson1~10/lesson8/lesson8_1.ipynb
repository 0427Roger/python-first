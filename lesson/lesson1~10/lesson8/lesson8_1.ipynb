{
 "cells": [
  {
   "cell_type": "code",
   "execution_count": null,
   "metadata": {},
   "outputs": [],
   "source": [
    "#tuple\n",
    "mytuple:tuple[int]=5,4,3\n",
    "print(mytuple)\n",
    "print(type(mytuple))\n",
    "chinese,math,english=80,90,50\n",
    "print(chinese)\n",
    "print(type(chinese))"
   ]
  },
  {
   "cell_type": "code",
   "execution_count": null,
   "metadata": {},
   "outputs": [],
   "source": [
    "#list\n",
    "#Sequence\n",
    "#interable\n",
    "scores:list[int]=[90,20,30]\n",
    "print(scores)\n",
    "print(type(scores))"
   ]
  },
  {
   "cell_type": "code",
   "execution_count": null,
   "metadata": {},
   "outputs": [],
   "source": [
    "scores:list[int]=[1,2,3]\n",
    "print(scores)\n",
    "for i in scores:\n",
    "    print(i)\n",
    "scores[1]=7\n",
    "print(scores)"
   ]
  },
  {
   "cell_type": "code",
   "execution_count": null,
   "metadata": {},
   "outputs": [],
   "source": [
    "scores:list[int]=[]\n",
    "print(scores)\n",
    "scores.append(80)\n",
    "scores.append(90)\n",
    "print(scores)\n"
   ]
  },
  {
   "cell_type": "code",
   "execution_count": null,
   "metadata": {},
   "outputs": [],
   "source": [
    "scores:list[int]=[]\n",
    "scores.extend([50,20,510,20])\n",
    "print(scores)\n",
    "scores.pop()\n",
    "print(scores)\n",
    "scores.clear()\n",
    "print(scores)"
   ]
  }
 ],
 "metadata": {
  "kernelspec": {
   "display_name": "Python 3",
   "language": "python",
   "name": "python3"
  },
  "language_info": {
   "codemirror_mode": {
    "name": "ipython",
    "version": 3
   },
   "file_extension": ".py",
   "mimetype": "text/x-python",
   "name": "python",
   "nbconvert_exporter": "python",
   "pygments_lexer": "ipython3",
   "version": "3.12.0"
  }
 },
 "nbformat": 4,
 "nbformat_minor": 2
}
