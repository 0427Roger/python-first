{
 "cells": [
  {
   "cell_type": "code",
   "execution_count": null,
   "metadata": {},
   "outputs": [],
   "source": [
    "#自訂function\n",
    "#沒有參數\n",
    "#沒有傳出值\n",
    "\n",
    "#定義function\n",
    "def sayHello()->None:\n",
    "    print(\"Hello! World!\")\n",
    "\n",
    "sayHello()"
   ]
  },
  {
   "cell_type": "code",
   "execution_count": null,
   "metadata": {},
   "outputs": [],
   "source": [
    "#自訂function\n",
    "#1個參數\n",
    "#沒有傳出值\n",
    "\n",
    "def hello_friend(name:str)->None:\n",
    "    print(f\"Hello! {name}\")\n",
    "\n",
    "#呼叫function\n",
    "hello_friend(\"Robert\")"
   ]
  },
  {
   "cell_type": "code",
   "execution_count": null,
   "metadata": {},
   "outputs": [],
   "source": [
    "#自訂function\n",
    "#1個參數\n",
    "#有傳出值字串\n",
    "\n",
    "def hello_again(name:str)->str:\n",
    "    return f'hello {name} again!'\n",
    "\n",
    "message:str = hello_again(\"robert\")\n",
    "print(message)"
   ]
  },
  {
   "cell_type": "code",
   "execution_count": null,
   "metadata": {},
   "outputs": [],
   "source": [
    "def circal_area(radius:float)->float:\n",
    "    pi=3.14159\n",
    "    return pi*radius**2\n",
    "area:float=circal_area(eval(input('input one radius:')))\n",
    "print(f'circal area is {area:.2f} .')"
   ]
  }
 ],
 "metadata": {
  "kernelspec": {
   "display_name": "Python 3",
   "language": "python",
   "name": "python3"
  },
  "language_info": {
   "codemirror_mode": {
    "name": "ipython",
    "version": 3
   },
   "file_extension": ".py",
   "mimetype": "text/x-python",
   "name": "python",
   "nbconvert_exporter": "python",
   "pygments_lexer": "ipython3",
   "version": "3.12.0"
  }
 },
 "nbformat": 4,
 "nbformat_minor": 2
}
