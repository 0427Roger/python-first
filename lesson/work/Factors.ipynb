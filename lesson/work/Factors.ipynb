{
 "cells": [
  {
   "cell_type": "code",
   "execution_count": 1,
   "metadata": {},
   "outputs": [
    {
     "name": "stdout",
     "output_type": "stream",
     "text": [
      "10 factors are:1 2 5 10 "
     ]
    }
   ],
   "source": [
    "#Find factors\n",
    "try:\n",
    "    value=int(input('input a numerical value:'))\n",
    "    print(f'{value} factors are',end=':')\n",
    "    for i in range(1,value+1):\n",
    "        if value % i ==0:\n",
    "            print(i,end=' ')\n",
    "except:\n",
    "    print('input format error.')"
   ]
  }
 ],
 "metadata": {
  "kernelspec": {
   "display_name": "Python 3",
   "language": "python",
   "name": "python3"
  },
  "language_info": {
   "codemirror_mode": {
    "name": "ipython",
    "version": 3
   },
   "file_extension": ".py",
   "mimetype": "text/x-python",
   "name": "python",
   "nbconvert_exporter": "python",
   "pygments_lexer": "ipython3",
   "version": "3.12.0"
  }
 },
 "nbformat": 4,
 "nbformat_minor": 2
}
