{
 "cells": [
  {
   "cell_type": "code",
   "execution_count": null,
   "metadata": {},
   "outputs": [],
   "source": [
    "import requests\n",
    "from requests import Response\n",
    "from pydantic import RootModel,BaseModel,Field\n",
    "Taipei_youbike_url='https://tcgbusfs.blob.core.windows.net/dotapp/youbike/v2/youbike_immediate.json'\n",
    "def get_url(url)->Response|None:\n",
    "    response:Response=requests.get(url)\n",
    "    try:\n",
    "        response.raise_for_status()\n",
    "        if response.status_code!=200:\n",
    "            print('Download failed.')\n",
    "            return None\n",
    "        print('Download successful')\n",
    "        return response\n",
    "    except Exception as e:\n",
    "        print(f'Error:{e}')\n",
    "        return None\n",
    "\n",
    "class Site(BaseModel):\n",
    "    sna:str\n",
    "    tot:int\n",
    "    sbi:int\n",
    "    sarea:str\n",
    "    mday:str\n",
    "    bemp:int\n",
    "class Sites(RootModel):\n",
    "    root:list[Site]"
   ]
  },
  {
   "cell_type": "code",
   "execution_count": null,
   "metadata": {},
   "outputs": [],
   "source": [
    "import pandas as pd\n",
    "Taipei_youbike_url='https://tcgbusfs.blob.core.windows.net/dotapp/youbike/v2/youbike_immediate.json'\n",
    "response:Response|None=get_url(Taipei_youbike_url)\n",
    "if response:\n",
    "    rawString:str=response.text\n",
    "data:Sites=Sites.model_validate_json(rawString)\n",
    "download:list[dict]=data.model_dump()\n",
    "youbike_df=pd.DataFrame(download)\n",
    "display(youbike_df)"
   ]
  },
  {
   "cell_type": "code",
   "execution_count": null,
   "metadata": {},
   "outputs": [],
   "source": [
    "import pandas as pd\n",
    "Taipei_youbike_url='https://tcgbusfs.blob.core.windows.net/dotapp/youbike/v2/youbike_immediate.json'\n",
    "respones:Response|None=get_url(Taipei_youbike_url)\n",
    "raw:str=response.json()\n",
    "youbike_df=pd.DataFrame(raw,columns=['sna','tot','sbi','sarea','mday','bemp'])\n",
    "display(youbike_df)"
   ]
  }
 ],
 "metadata": {
  "kernelspec": {
   "display_name": "env1",
   "language": "python",
   "name": "python3"
  },
  "language_info": {
   "codemirror_mode": {
    "name": "ipython",
    "version": 3
   },
   "file_extension": ".py",
   "mimetype": "text/x-python",
   "name": "python",
   "nbconvert_exporter": "python",
   "pygments_lexer": "ipython3",
   "version": "3.10.14"
  }
 },
 "nbformat": 4,
 "nbformat_minor": 2
}
