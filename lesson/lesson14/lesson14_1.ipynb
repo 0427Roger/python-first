{
 "cells": [
  {
   "cell_type": "code",
   "execution_count": 30,
   "metadata": {},
   "outputs": [
    {
     "name": "stderr",
     "output_type": "stream",
     "text": [
      "/tmp/ipykernel_438/3866413609.py:31: UserWarning: set_ticklabels() should only be used with a fixed number of ticks, i.e. after set_ticks() or using a FixedLocator.\n",
      "  axes2.set_xticklabels(subjects2,fontproperties=font)\n"
     ]
    }
   ],
   "source": [
    "import matplotlib.pyplot as plt\n",
    "from matplotlib.font_manager import FontProperties\n",
    "\n",
    "font = FontProperties(fname='/usr/share/fonts/truetype/wqy/wqy-zenhei.ttc',size=8)\n",
    "\n",
    "student1={'history':85,'nature':90,'physics':92,'explore':81,'calculus':100}\n",
    "student2={'history':50,'nature':32,'physics':32,'explore':11,'calculus':100}\n",
    "student3={'歷史':142,'自然':132,'物理':142,'探索':150,'微積分':150}\n",
    "student4={'歷史':14,'自然':12,'物理':14,'探索':15,'微積分':15}\n",
    "\n",
    "fig1=plt.figure(figsize=[10,5],dpi=250)\n",
    "fig2=plt.figure(figsize=[10,5],dpi=250)\n",
    "subjects1=list(student1.keys())\n",
    "subjects2=list(student3.keys())\n",
    "scores1=list(student1.values())\n",
    "scores2=list(student2.values())\n",
    "scores3=list(student3.values())\n",
    "scores4=list(student4.values())\n",
    "\n",
    "axes1=fig1.subplots()\n",
    "axes1.plot(subjects1,scores1,'r^-.',label='stu1')\n",
    "axes1.plot(subjects1,scores2,'go--',label='stu2')\n",
    "axes1.legend()\n",
    "axes1.set_title('scores comparsion table.')\n",
    "axes1.set_xlabel('subject')\n",
    "axes1.set_ylabel('scores')\n",
    "\n",
    "axes2=fig2.subplots()\n",
    "axes2.plot(subjects2,scores3,'ro--',label='stu3')\n",
    "axes2.plot(subjects2,scores4,'g.-.',label='stu4')\n",
    "axes2.set_xticklabels(subjects2,fontproperties=font)\n",
    "axes2.set_title('分數比較表',fontproperties=font)\n",
    "axes2.set_xlabel('科目',fontproperties=font)\n",
    "axes2.set_ylabel('分數',fontproperties=font)\n",
    "axes2.legend()\n",
    "\n",
    "plt.show()\n"
   ]
  }
 ],
 "metadata": {
  "kernelspec": {
   "display_name": "Python 3",
   "language": "python",
   "name": "python3"
  },
  "language_info": {
   "codemirror_mode": {
    "name": "ipython",
    "version": 3
   },
   "file_extension": ".py",
   "mimetype": "text/x-python",
   "name": "python",
   "nbconvert_exporter": "python",
   "pygments_lexer": "ipython3",
   "version": "3.10.13"
  }
 },
 "nbformat": 4,
 "nbformat_minor": 2
}
