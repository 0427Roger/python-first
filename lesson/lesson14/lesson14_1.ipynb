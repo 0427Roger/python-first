{
 "cells": [
  {
   "cell_type": "code",
   "execution_count": 29,
   "metadata": {},
   "outputs": [
    {
     "name": "stderr",
     "output_type": "stream",
     "text": [
      "/tmp/ipykernel_6185/3026595153.py:33: UserWarning: set_ticklabels() should only be used with a fixed number of ticks, i.e. after set_ticks() or using a FixedLocator.\n",
      "  axes2.set_xticklabels(subjects2,fontproperties=font)\n"
     ]
    },
    {
     "ename": "NameError",
     "evalue": "name 'subjcets' is not defined",
     "output_type": "error",
     "traceback": [
      "\u001b[0;31m---------------------------------------------------------------------------\u001b[0m",
      "\u001b[0;31mNameError\u001b[0m                                 Traceback (most recent call last)",
      "Cell \u001b[0;32mIn[29], line 44\u001b[0m\n\u001b[1;32m     42\u001b[0m axes1_nums \u001b[38;5;241m=\u001b[39m axes1\u001b[38;5;241m.\u001b[39mget_xticks()\n\u001b[1;32m     43\u001b[0m \u001b[38;5;28;01mfor\u001b[39;00m students,subjects,scores \u001b[38;5;129;01min\u001b[39;00m \u001b[38;5;28mzip\u001b[39m(students_list,subjects_list,scores_list):\n\u001b[0;32m---> 44\u001b[0m     \u001b[38;5;28;01mfor\u001b[39;00m subject,score \u001b[38;5;129;01min\u001b[39;00m \u001b[38;5;28mzip\u001b[39m(\u001b[43msubjcets\u001b[49m,scores):\n\u001b[1;32m     45\u001b[0m          \u001b[38;5;28mprint\u001b[39m(subject,score)\n\u001b[1;32m     48\u001b[0m plt\u001b[38;5;241m.\u001b[39mshow()\n",
      "\u001b[0;31mNameError\u001b[0m: name 'subjcets' is not defined"
     ]
    }
   ],
   "source": [
    "import matplotlib.pyplot as plt\n",
    "from matplotlib.font_manager import FontProperties\n",
    "\n",
    "font = FontProperties(fname='/usr/share/fonts/truetype/wqy/wqy-zenhei.ttc',size=8)\n",
    "\n",
    "student1={'history':85,'nature':90,'physics':92,'explore':81,'calculus':100}\n",
    "student2={'history':50,'nature':32,'physics':32,'explore':11,'calculus':100}\n",
    "student3={'歷史':142,'自然':132,'物理':142,'探索':150,'微積分':150}\n",
    "student4={'歷史':14,'自然':12,'物理':14,'探索':15,'微積分':15}\n",
    "\n",
    "fig1=plt.figure(figsize=[10,5],dpi=250)\n",
    "fig2=plt.figure(figsize=[10,5],dpi=250)\n",
    "subjects1=list(student1.keys())\n",
    "subjects2=list(student2.keys())\n",
    "subjects3=list(student3.keys())\n",
    "subjects4=list(student4.keys())\n",
    "scores1=list(student1.values())\n",
    "scores2=list(student2.values())\n",
    "scores3=list(student3.values())\n",
    "scores4=list(student4.values())\n",
    "\n",
    "axes1=fig1.subplots()\n",
    "axes1.plot(subjects1,scores1,'r^-.',label='stu1')\n",
    "axes1.plot(subjects1,scores2,'go--',label='stu2')\n",
    "axes1.set_title('scores comparsion table.')\n",
    "axes1.set_xlabel('subject')\n",
    "axes1.set_ylabel('scores')\n",
    "axes1.legend()\n",
    "\n",
    "axes2=fig2.subplots()\n",
    "axes2.plot(subjects2,scores3,'ro--',label='學生3')\n",
    "axes2.plot(subjects2,scores4,'g.-.',label='學生4')\n",
    "axes2.set_xticklabels(subjects2,fontproperties=font)\n",
    "axes2.set_title('分數比較表',fontproperties=font)\n",
    "axes2.set_xlabel('科目',fontproperties=font)\n",
    "axes2.set_ylabel('分數',fontproperties=font)\n",
    "axes2.legend(prop=font)\n",
    "\n",
    "students_list = [student1,student2,student3,student4]\n",
    "subjects_list = [subjects1,subjects2,subjects3,subjects4]\n",
    "scores_list = [scores1,scores2,scores3,scores4]\n",
    "axes1_nums = axes1.get_xticks()\n",
    "for students,subjects,scores in zip(students_list,subjects_list,scores_list):\n",
    "    for subject,score in zip(subjcets,scores):\n",
    "         print(subject,score)\n",
    "    \n",
    "plt.show()"
   ]
  }
 ],
 "metadata": {
  "kernelspec": {
   "display_name": "Python 3",
   "language": "python",
   "name": "python3"
  },
  "language_info": {
   "codemirror_mode": {
    "name": "ipython",
    "version": 3
   },
   "file_extension": ".py",
   "mimetype": "text/x-python",
   "name": "python",
   "nbconvert_exporter": "python",
   "pygments_lexer": "ipython3",
   "version": "3.10.13"
  }
 },
 "nbformat": 4,
 "nbformat_minor": 2
}
