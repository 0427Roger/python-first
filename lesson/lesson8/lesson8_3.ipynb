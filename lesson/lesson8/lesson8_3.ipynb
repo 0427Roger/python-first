{
 "cells": [
  {
   "cell_type": "code",
   "execution_count": 18,
   "metadata": {},
   "outputs": [],
   "source": [
    "from pydantic import RootModel\n",
    "class Scores(RootModel):\n",
    "    root:list[int]\n",
    "\n",
    "    def __iter__(self):\n",
    "        return iter(self.root)\n",
    "\n",
    "    def __getitem__(self,item):\n",
    "        return self.root[item]"
   ]
  },
  {
   "cell_type": "code",
   "execution_count": 21,
   "metadata": {},
   "outputs": [
    {
     "name": "stdout",
     "output_type": "stream",
     "text": [
      "root=[30, 20, 50]\n",
      "30\n",
      "20\n",
      "50\n"
     ]
    }
   ],
   "source": [
    "scores=Scores(root=[30,20,50])\n",
    "print(scores)\n",
    "for item in scores:\n",
    "    print(item)"
   ]
  },
  {
   "cell_type": "code",
   "execution_count": 28,
   "metadata": {},
   "outputs": [
    {
     "name": "stdout",
     "output_type": "stream",
     "text": [
      "root=[30, 50, 10]\n",
      "30\n",
      "50\n",
      "10\n"
     ]
    }
   ],
   "source": [
    "scores=Scores.model_validate([30,50,10])\n",
    "print(scores)\n",
    "for item in scores:\n",
    "    print(item)"
   ]
  }
 ],
 "metadata": {
  "kernelspec": {
   "display_name": "Python 3",
   "language": "python",
   "name": "python3"
  },
  "language_info": {
   "codemirror_mode": {
    "name": "ipython",
    "version": 3
   },
   "file_extension": ".py",
   "mimetype": "text/x-python",
   "name": "python",
   "nbconvert_exporter": "python",
   "pygments_lexer": "ipython3",
   "version": "3.12.0"
  }
 },
 "nbformat": 4,
 "nbformat_minor": 2
}
