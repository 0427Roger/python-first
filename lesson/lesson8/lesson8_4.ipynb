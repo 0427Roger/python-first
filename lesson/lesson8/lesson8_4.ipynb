{
 "cells": [
  {
   "cell_type": "code",
   "execution_count": 27,
   "metadata": {},
   "outputs": [
    {
     "name": "stdout",
     "output_type": "stream",
     "text": [
      "{'chinese': 80, 'english': 70, 'nature': 10, 'physics': 90}\n"
     ]
    }
   ],
   "source": [
    "#Dictionary\n",
    "#Map\n",
    "scores:dict['str':int]={'chinese':80,\n",
    "        'english':70,\n",
    "        'nature':10,\n",
    "        'physics':90}\n",
    "print(scores)"
   ]
  },
  {
   "cell_type": "code",
   "execution_count": 10,
   "metadata": {},
   "outputs": [
    {
     "name": "stdout",
     "output_type": "stream",
     "text": [
      "80\n"
     ]
    }
   ],
   "source": [
    "#Subscript\n",
    "print(scores['chinese'])"
   ]
  },
  {
   "cell_type": "code",
   "execution_count": 20,
   "metadata": {},
   "outputs": [
    {
     "name": "stdout",
     "output_type": "stream",
     "text": [
      "chinese:80\n",
      "english:70\n",
      "nature:10\n",
      "physics:90\n"
     ]
    }
   ],
   "source": [
    "for key in scores:\n",
    "    print(f'{key}:{scores[key]}')"
   ]
  },
  {
   "cell_type": "code",
   "execution_count": 42,
   "metadata": {},
   "outputs": [
    {
     "name": "stdout",
     "output_type": "stream",
     "text": [
      "{'physics': 93, 'nature': 90, 'science': 83}\n"
     ]
    }
   ],
   "source": [
    "#Dictionary\n",
    "import random\n",
    "scores:dict['str':int]={}\n",
    "for item in ['physics','nature','science']:\n",
    "    scores[item]=random.randint(50,100)\n",
    "print(scores)\n"
   ]
  }
 ],
 "metadata": {
  "kernelspec": {
   "display_name": "Python 3",
   "language": "python",
   "name": "python3"
  },
  "language_info": {
   "codemirror_mode": {
    "name": "ipython",
    "version": 3
   },
   "file_extension": ".py",
   "mimetype": "text/x-python",
   "name": "python",
   "nbconvert_exporter": "python",
   "pygments_lexer": "ipython3",
   "version": "3.12.0"
  }
 },
 "nbformat": 4,
 "nbformat_minor": 2
}
