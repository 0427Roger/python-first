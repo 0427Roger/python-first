{
 "cells": [
  {
   "cell_type": "code",
   "execution_count": 12,
   "metadata": {},
   "outputs": [
    {
     "name": "stdout",
     "output_type": "stream",
     "text": [
      "'a' is not an integer.\n",
      "'102a' is not an integer.\n",
      "'23d' is not an integer.\n"
     ]
    },
    {
     "data": {
      "text/plain": [
       "10"
      ]
     },
     "execution_count": 12,
     "metadata": {},
     "output_type": "execute_result"
    }
   ],
   "source": [
    "import pyinputplus\n",
    "result=pyinputplus.inputInt()\n",
    "result"
   ]
  },
  {
   "cell_type": "code",
   "execution_count": 4,
   "metadata": {},
   "outputs": [
    {
     "name": "stdout",
     "output_type": "stream",
     "text": [
      "猜數字遊戲\n",
      "input a number(1~100):50\n",
      "\n",
      "Smaller\n",
      "input a number(1~50):28\n",
      "\n",
      "Smaller\n",
      "input a number(1~28):14\n",
      "\n",
      "Bigger\n",
      "input a number(14~28):20\n",
      "\n",
      "Bigger\n",
      "input a number(20~28):24\n",
      "\n",
      "Smaller\n",
      "input a number(20~24):22\n",
      "Guessed correctly\n",
      "Game over\n"
     ]
    }
   ],
   "source": [
    "import random\n",
    "import pyinputplus\n",
    "print('猜數字遊戲')\n",
    "min=1\n",
    "max=100\n",
    "target=random.randint(min,max)\n",
    "while True:\n",
    "    keyin=pyinputplus.inputInt(f'input a number({min}~{max}):',min=min,max=max)\n",
    "    print(keyin)\n",
    "    if keyin==target:\n",
    "        print('Guessed correctly')\n",
    "        break\n",
    "    else:\n",
    "        if keyin<target:\n",
    "            print('\\nBigger')\n",
    "            min=keyin\n",
    "        elif keyin>target:\n",
    "            print('\\nSmaller')\n",
    "            max=keyin\n",
    "print('Game over')"
   ]
  }
 ],
 "metadata": {
  "kernelspec": {
   "display_name": "Python 3",
   "language": "python",
   "name": "python3"
  },
  "language_info": {
   "codemirror_mode": {
    "name": "ipython",
    "version": 3
   },
   "file_extension": ".py",
   "mimetype": "text/x-python",
   "name": "python",
   "nbconvert_exporter": "python",
   "pygments_lexer": "ipython3",
   "version": "3.12.0"
  }
 },
 "nbformat": 4,
 "nbformat_minor": 2
}
