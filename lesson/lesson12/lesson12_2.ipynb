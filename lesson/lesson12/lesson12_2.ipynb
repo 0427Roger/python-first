{
 "cells": [
  {
   "cell_type": "code",
   "execution_count": null,
   "metadata": {},
   "outputs": [],
   "source": [
    "import requests\n",
    "from requests import Response\n",
    "def get_data() ->Response | None:\n",
    "    aqi_url='https://data.moenv.gov.tw/api/v2/aqx_p_488?api_key=e8dd42e6-9b8b-43f8-991e-b3dee723a52d&limit=1000&sort=datacreationdate desc&format=JSON'\n",
    "    try:    \n",
    "        response:Response=requests.get(aqi_url)\n",
    "        response.raise_for_status()\n",
    "        if response.status_code==200:\n",
    "            print(response)\n",
    "            return response\n",
    "        else:\n",
    "            print('Status code error.')\n",
    "            return None\n",
    "    except Exception as e:\n",
    "        print(f'HTTP erro occurred:{e}')\n",
    "        return None\n",
    "response:Response|None=get_data()\n",
    "    "
   ]
  },
  {
   "cell_type": "code",
   "execution_count": null,
   "metadata": {},
   "outputs": [],
   "source": [
    "if response:\n",
    "    rawString:str=response.text"
   ]
  },
  {
   "cell_type": "code",
   "execution_count": null,
   "metadata": {},
   "outputs": [],
   "source": [
    "from pydantic import BaseModel,Field,field_validator\n",
    "import pprint\n",
    "class Site(BaseModel):\n",
    "    county:str\n",
    "    sitename:str\n",
    "    status:str\n",
    "    particulate_matter:float=Field(alias='pm2.5')\n",
    "    creat_time:str=Field(alias='datacreationdate')\n",
    "    @field_validator('particulate_matter',mode='before')\n",
    "    @classmethod\n",
    "    def empty_string_pm25(cls,value):\n",
    "        if value=='':\n",
    "            return 0\n",
    "        else:\n",
    "            return value\n",
    "class Sites(BaseModel):\n",
    "    records:list[Site]"
   ]
  },
  {
   "cell_type": "code",
   "execution_count": null,
   "metadata": {},
   "outputs": [],
   "source": [
    "data:Sites=Sites.model_validate_json(rawString)\n",
    "download:list[dict]=data.model_dump()['records']"
   ]
  },
  {
   "cell_type": "code",
   "execution_count": null,
   "metadata": {},
   "outputs": [],
   "source": [
    "import pandas as pd\n",
    "pd.DataFrame(download)"
   ]
  }
 ],
 "metadata": {
  "kernelspec": {
   "display_name": "Python 3",
   "language": "python",
   "name": "python3"
  },
  "language_info": {
   "codemirror_mode": {
    "name": "ipython",
    "version": 3
   },
   "file_extension": ".py",
   "mimetype": "text/x-python",
   "name": "python",
   "nbconvert_exporter": "python",
   "pygments_lexer": "ipython3",
   "version": "3.10.13"
  }
 },
 "nbformat": 4,
 "nbformat_minor": 2
}
