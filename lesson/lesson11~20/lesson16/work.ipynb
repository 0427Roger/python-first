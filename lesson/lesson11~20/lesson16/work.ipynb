{
 "cells": [
  {
   "cell_type": "code",
   "execution_count": null,
   "metadata": {},
   "outputs": [],
   "source": [
    "import pandas as pd\n",
    "df=pd.read_csv('world.csv')  \n",
    "df1=df.reindex(columns=['國家','日期','總確診數','新增確診數','新增死亡數'])\n",
    "df2=df1['國家']=='台灣'\n",
    "df3=df1['國家']=='日本'\n",
    "display(df1[df2+df3])\n"
   ]
  },
  {
   "cell_type": "code",
   "execution_count": null,
   "metadata": {},
   "outputs": [],
   "source": [
    "import pandas as pd\n",
    "\n",
    "df1 = pd.read_csv('world.csv')\n",
    "df2 = df1.loc[(df1['國家'] == '台灣') | (df1['國家'] == '日本'), \n",
    "              ['國家','日期','總確診數','新增確診數','新增死亡數']]\n",
    "\n",
    "display(df2)"
   ]
  }
 ],
 "metadata": {
  "kernelspec": {
   "display_name": "env1",
   "language": "python",
   "name": "python3"
  },
  "language_info": {
   "codemirror_mode": {
    "name": "ipython",
    "version": 3
   },
   "file_extension": ".py",
   "mimetype": "text/x-python",
   "name": "python",
   "nbconvert_exporter": "python",
   "pygments_lexer": "ipython3",
   "version": "3.10.14"
  }
 },
 "nbformat": 4,
 "nbformat_minor": 2
}
