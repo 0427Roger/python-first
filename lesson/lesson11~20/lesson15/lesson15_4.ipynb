{
 "cells": [
  {
   "cell_type": "code",
   "execution_count": null,
   "metadata": {},
   "outputs": [],
   "source": [
    "import pandas as pd\n",
    "\n",
    "data={\n",
    "    'fruits':['sugar apple','grape','black currant','lychee','watermelon'],\n",
    "    'years':[2020,2021,2020,2019,2020],\n",
    "    'fruit output':[20,30,25,15,20]\n",
    "}\n",
    "\n",
    "df1=pd.DataFrame(data)\n",
    "display(series)"
   ]
  },
  {
   "cell_type": "code",
   "execution_count": null,
   "metadata": {},
   "outputs": [],
   "source": [
    "display(df1['years'])\n",
    "display(df1['fruits'])\n",
    "display(df1['fruit output'])"
   ]
  },
  {
   "cell_type": "code",
   "execution_count": null,
   "metadata": {},
   "outputs": [],
   "source": [
    "pd.DataFrame(data,index=['one','two','three','four','five'],columns=['years','fruits'])"
   ]
  }
 ],
 "metadata": {
  "kernelspec": {
   "display_name": "env1",
   "language": "python",
   "name": "python3"
  },
  "language_info": {
   "codemirror_mode": {
    "name": "ipython",
    "version": 3
   },
   "file_extension": ".py",
   "mimetype": "text/x-python",
   "name": "python",
   "nbconvert_exporter": "python",
   "pygments_lexer": "ipython3",
   "version": "3.10.14"
  }
 },
 "nbformat": 4,
 "nbformat_minor": 2
}
