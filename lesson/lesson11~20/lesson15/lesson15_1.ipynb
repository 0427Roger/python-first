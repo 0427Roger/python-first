{
 "cells": [
  {
   "cell_type": "code",
   "execution_count": null,
   "metadata": {},
   "outputs": [],
   "source": [
    "import numpy as np\n",
    "import matplotlib.pyplot as plt\n",
    "from matplotlib.font_manager import FontProperties\n",
    "\n",
    "font = FontProperties(fname='/usr/share/fonts/truetype/wqy/wqy-zenhei.ttc',size=8)\n",
    "\n",
    "index=np.array([2,3,4,5,6])\n",
    "subject=['apple','banana','tomato','orange','guava']\n",
    "value1=[2,3,4,5,6]\n",
    "value2=[4,5,6,7,8]\n",
    "value3=[1,2,3,4,5]\n",
    "\n",
    "bin_width=0.3\n",
    "\n",
    "figure , axes = plt.subplots()\n",
    "barContainer1 = axes.bar(index,value1,width=bin_width,color='yellow',label='value1')\n",
    "barContainer2 = axes.bar(index+bin_width,value2,width=bin_width,color='red',label='value2')\n",
    "barContainer3 = axes.bar(index-bin_width,value3,width=bin_width,color='green',label='value3')\n",
    "\n",
    "axes.legend(loc='upper center',ncols=3)\n",
    "axes.set_xticks(index,labels=subject)\n",
    "\n",
    "for index,rectangle in enumerate(barContainer1.patches):\n",
    "    x=rectangle.get_x()\n",
    "    height=rectangle.get_height()\n",
    "    axes.annotate(value1[index],(x,height),fontproperties=font)\n",
    "\n",
    "for index,rectangle in enumerate(barContainer2):\n",
    "    x=rectangle.get_x()\n",
    "    height=rectangle.get_height()\n",
    "    axes.annotate(value2[index],(x,height),fontproperties=font)\n",
    "\n",
    "for index,rectangle in enumerate(barContainer3):\n",
    "    x=rectangle.get_x()\n",
    "    height=rectangle.get_height()\n",
    "    axes.annotate(value3[index],(x,height),fontproperties=font)\n",
    "\n",
    "xmin,xmax,ymin,ymax=axes.axis()\n",
    "\n",
    "ymin+=0.5\n",
    "ymax+=1\n",
    "axes.axis((xmin,xmax,ymin,ymax))\n",
    "\n",
    "plt.show()"
   ]
  }
 ],
 "metadata": {
  "kernelspec": {
   "display_name": "env1",
   "language": "python",
   "name": "python3"
  },
  "language_info": {
   "codemirror_mode": {
    "name": "ipython",
    "version": 3
   },
   "file_extension": ".py",
   "mimetype": "text/x-python",
   "name": "python",
   "nbconvert_exporter": "python",
   "pygments_lexer": "ipython3",
   "version": "3.10.14"
  }
 },
 "nbformat": 4,
 "nbformat_minor": 2
}
