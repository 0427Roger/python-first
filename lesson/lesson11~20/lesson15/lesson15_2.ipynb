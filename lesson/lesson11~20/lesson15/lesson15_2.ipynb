{
 "cells": [
  {
   "cell_type": "code",
   "execution_count": null,
   "metadata": {},
   "outputs": [],
   "source": [
    "import matplotlib.pyplot as plt\n",
    "\n",
    "values=[10,20,53,40]\n",
    "fruits=['Cherry','Watermelon','Mango','Strawberries']\n",
    "explode=[0.1,0.1,0.1,0.1]\n",
    "colors=['yellow','blue','green','orange']\n",
    "\n",
    "figure,axes=plt.subplots()\n",
    "axes.pie(values,explode=explode,labels=fruits,autopct='%.2f%%',shadow=True,startangle=90,hatch=['/|','\\|/','\\/','|.|'],colors=colors)\n",
    "plt.show()"
   ]
  }
 ],
 "metadata": {
  "kernelspec": {
   "display_name": "Python 3",
   "language": "python",
   "name": "python3"
  },
  "language_info": {
   "codemirror_mode": {
    "name": "ipython",
    "version": 3
   },
   "file_extension": ".py",
   "mimetype": "text/x-python",
   "name": "python",
   "nbconvert_exporter": "python",
   "pygments_lexer": "ipython3",
   "version": "3.10.13"
  }
 },
 "nbformat": 4,
 "nbformat_minor": 2
}
