{
 "cells": [
  {
   "cell_type": "code",
   "execution_count": null,
   "metadata": {},
   "outputs": [],
   "source": [
    "import os\n",
    "import pandas as pd\n",
    "station_names=os.listdir('Number of people entering and exiting each station every day')\n",
    "abs_path=[]\n",
    "abs_path.extend(os.path.abspath(f'Number of people entering and exiting each station every day/{station_name}') for station_name in station_names)\n",
    "df1=pd.concat(pd.read_csv(path)for path in abs_path)\n",
    "df1=df1.rename(columns={'staCode':'stationCode'})\n",
    "df1"
   ]
  },
  {
   "cell_type": "code",
   "execution_count": null,
   "metadata": {},
   "outputs": [],
   "source": [
    "import requests\n",
    "url='https://ods.railway.gov.tw/tra-ods-web/ods/download/dataResource/0518b833e8964d53bfea3f7691aea0ee'\n",
    "response=requests.get(url)\n",
    "if response.status_code==200:\n",
    "    station_data=response.json()\n",
    "df2=pd.DataFrame(station_data)\n",
    "df3=df2.reindex(columns=['stationCode','stationName'])\n",
    "df3['stationCode']=df3['stationCode'].astype('int')\n",
    "df3.info()"
   ]
  },
  {
   "cell_type": "code",
   "execution_count": null,
   "metadata": {},
   "outputs": [],
   "source": [
    "df4=pd.merge(df1,df3,on='stationCode',how='left')\n",
    "df4=df4.set_index('stationCode')\n",
    "df4"
   ]
  },
  {
   "cell_type": "code",
   "execution_count": null,
   "metadata": {},
   "outputs": [],
   "source": [
    "df4['trnOpDate']=pd.to_datetime(df4['trnOpDate'].astype('str'))\n",
    "df4=df4.sort_values(by='trnOpDate')\n",
    "df4"
   ]
  },
  {
   "cell_type": "code",
   "execution_count": null,
   "metadata": {},
   "outputs": [],
   "source": [
    "df4=df4.groupby(by='stationName')[['gateInComingCnt','gateOutGoingCnt']].agg(['sum','min','max'])\n",
    "df4.columns.names=['Number','Statistics']\n",
    "df4"
   ]
  },
  {
   "cell_type": "code",
   "execution_count": null,
   "metadata": {},
   "outputs": [],
   "source": [
    "df4.stack(level=['Number','Statistics'],future_stack=True).unstack(level=['stationName','Number'])"
   ]
  }
 ],
 "metadata": {
  "kernelspec": {
   "display_name": "env1",
   "language": "python",
   "name": "python3"
  },
  "language_info": {
   "codemirror_mode": {
    "name": "ipython",
    "version": 3
   },
   "file_extension": ".py",
   "mimetype": "text/x-python",
   "name": "python",
   "nbconvert_exporter": "python",
   "pygments_lexer": "ipython3",
   "version": "3.10.14"
  }
 },
 "nbformat": 4,
 "nbformat_minor": 2
}
