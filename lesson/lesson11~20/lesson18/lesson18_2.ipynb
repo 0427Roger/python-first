{
 "cells": [
  {
   "cell_type": "code",
   "execution_count": null,
   "metadata": {},
   "outputs": [],
   "source": [
    "import numpy as np\n",
    "import pandas as pd\n",
    "from pandas import Series\n",
    "subjects=['Geology','Algebra','Religion','Literature','Economic']\n",
    "scores=np.random.randint(5,10,size=(10,len(subjects)))\n",
    "df1=pd.DataFrame(columns=subjects,data=scores,index=range(1,11))\n",
    "\n",
    "def to_statistic(value:Series)->Series:\n",
    "    return Series([value.max(),value.min(),value.mean()],index=['highest score','lowhest score','avrange score'])\n",
    "\n",
    "df1.apply(to_statistic)\n"
   ]
  }
 ],
 "metadata": {
  "kernelspec": {
   "display_name": "Python 3",
   "language": "python",
   "name": "python3"
  },
  "language_info": {
   "codemirror_mode": {
    "name": "ipython",
    "version": 3
   },
   "file_extension": ".py",
   "mimetype": "text/x-python",
   "name": "python",
   "nbconvert_exporter": "python",
   "pygments_lexer": "ipython3",
   "version": "3.10.14"
  }
 },
 "nbformat": 4,
 "nbformat_minor": 2
}
