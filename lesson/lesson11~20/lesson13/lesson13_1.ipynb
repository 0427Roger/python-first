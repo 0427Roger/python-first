{
 "cells": [
  {
   "cell_type": "code",
   "execution_count": null,
   "metadata": {},
   "outputs": [],
   "source": [
    "import matplotlib.pyplot as plt\n",
    "\n",
    "fig=plt.figure()\n",
    "\n",
    "axes=fig.add_subplot(1,1,1)\n",
    "x=[2,4,6]\n",
    "y=[4,5,6]\n",
    "\n",
    "axes.plot(x,y)\n",
    "axes.set_title('title')\n",
    "plt.show()"
   ]
  },
  {
   "cell_type": "code",
   "execution_count": null,
   "metadata": {},
   "outputs": [],
   "source": [
    "import matplotlib.pyplot as plt\n",
    "\n",
    "student1 = {'chinese':78, 'english': 80, 'history':75, 'discover': 85}\n",
    "student2 = {'chinese':69, 'english': 92, 'history':69, 'discover': 80}\n",
    "\n",
    "subjects=list(student1.keys())\n",
    "scores1=list(student1.values())\n",
    "scores2=list(student2.values())\n",
    "\n",
    "fig=plt.figure()\n",
    "axes=fig.add_subplot(1,1,1)\n",
    "axes.plot(subjects,scores1,label='stu1',marker='o',markersize='10')\n",
    "axes.plot(subjects,scores2,label='stu2',marker='o',markersize='10')\n",
    "axes.legend()\n",
    "plt.show()\n",
    "\n"
   ]
  }
 ],
 "metadata": {
  "kernelspec": {
   "display_name": "Python 3",
   "language": "python",
   "name": "python3"
  },
  "language_info": {
   "codemirror_mode": {
    "name": "ipython",
    "version": 3
   },
   "file_extension": ".py",
   "mimetype": "text/x-python",
   "name": "python",
   "nbconvert_exporter": "python",
   "pygments_lexer": "ipython3",
   "version": "3.10.14"
  }
 },
 "nbformat": 4,
 "nbformat_minor": 2
}
