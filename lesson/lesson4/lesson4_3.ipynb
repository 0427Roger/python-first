{
 "cells": [
  {
   "cell_type": "code",
   "execution_count": 1,
   "metadata": {},
   "outputs": [
    {
     "name": "stdout",
     "output_type": "stream",
     "text": [
      "pass,The score is 60.\n"
     ]
    }
   ],
   "source": [
    "score=eval(input(\"input student scores:\"))\n",
    "if score >=60:\n",
    "    print(f\"pass,The score is {score}.\")\n",
    "else:\n",
    "    print(f\"fall,The score is {score}.\")"
   ]
  },
  {
   "cell_type": "code",
   "execution_count": null,
   "metadata": {},
   "outputs": [],
   "source": [
    "score=eval(input(\"input student scores:\"))\n",
    "is_add=input(\"Is the student eligible,Input yes or no:\")\n",
    "if is_add=y:\n",
    "    score*=1.05\n",
    "round(score)\n",
    "print(f\"The student scores is {score}.\")\n"
   ]
  }
 ],
 "metadata": {
  "kernelspec": {
   "display_name": "Python 3",
   "language": "python",
   "name": "python3"
  },
  "language_info": {
   "codemirror_mode": {
    "name": "ipython",
    "version": 3
   },
   "file_extension": ".py",
   "mimetype": "text/x-python",
   "name": "python",
   "nbconvert_exporter": "python",
   "pygments_lexer": "ipython3",
   "version": "3.10.13"
  }
 },
 "nbformat": 4,
 "nbformat_minor": 2
}
