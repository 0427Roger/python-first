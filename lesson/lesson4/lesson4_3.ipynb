{
 "cells": [
  {
   "cell_type": "code",
   "execution_count": 1,
   "metadata": {},
   "outputs": [
    {
     "name": "stdout",
     "output_type": "stream",
     "text": [
      "pass,The score is 60.\n"
     ]
    }
   ],
   "source": [
    "score=eval(input(\"input student scores:\"))\n",
    "if score >=60:\n",
    "    print(f\"pass,The score is {score}.\")\n",
    "else:\n",
    "    print(f\"fall,The score is {score}.\")"
   ]
  },
  {
   "cell_type": "code",
   "execution_count": 4,
   "metadata": {},
   "outputs": [
    {
     "name": "stdout",
     "output_type": "stream",
     "text": [
      "The scores is not within the range.\n"
     ]
    }
   ],
   "source": [
    "try:\n",
    "    score=eval(input(\"input student scores:\"))\n",
    "    if score<=300 and score >=0:\n",
    "        is_add=input(\"Is the student eligible,Input yes or no:\")\n",
    "        if is_add==\"yes\":\n",
    "            score*=1.05\n",
    "        if score >300:\n",
    "            score=300\n",
    "        score=round(score)\n",
    "        print(f\"The student scores is {score}.\")\n",
    "    else:\n",
    "            print(\"The scores is not within the range.\")\n",
    "except:\n",
    "    print(\"input error.\")"
   ]
  },
  {
   "cell_type": "code",
   "execution_count": 26,
   "metadata": {},
   "outputs": [
    {
     "name": "stdout",
     "output_type": "stream",
     "text": [
      "input error.\n"
     ]
    }
   ],
   "source": [
    "try:\n",
    "    print(eval(input(\"input the money tou have save:\")))\n",
    "except:\n",
    "    print(\"input error.\")"
   ]
  }
 ],
 "metadata": {
  "kernelspec": {
   "display_name": "Python 3",
   "language": "python",
   "name": "python3"
  },
  "language_info": {
   "codemirror_mode": {
    "name": "ipython",
    "version": 3
   },
   "file_extension": ".py",
   "mimetype": "text/x-python",
   "name": "python",
   "nbconvert_exporter": "python",
   "pygments_lexer": "ipython3",
   "version": "3.10.13"
  }
 },
 "nbformat": 4,
 "nbformat_minor": 2
}
