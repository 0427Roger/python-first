{
 "cells": [
  {
   "cell_type": "code",
   "execution_count": 14,
   "metadata": {},
   "outputs": [
    {
     "name": "stdout",
     "output_type": "stream",
     "text": [
      "liquor:juice\n",
      "Entrees:steak\n",
      "Dessert:cheese\n"
     ]
    }
   ],
   "source": [
    "def mean(liquor:str='wine',entrees:str='steak',dessert:str='pudding'):\n",
    "    print(f'liquor:{liquor}')\n",
    "    print(f'Entrees:{entrees}')\n",
    "    print(f'Dessert:{dessert}')\n",
    "mean('juice',dessert='cheese')"
   ]
  },
  {
   "cell_type": "code",
   "execution_count": 15,
   "metadata": {},
   "outputs": [
    {
     "name": "stdout",
     "output_type": "stream",
     "text": [
      "all arguments:(1, 2, 3, 4, 'a', 'b', 'c')\n"
     ]
    }
   ],
   "source": [
    "def print_arguments(*args):\n",
    "    print(f'all arguments:{args}')\n",
    "print_arguments(1,2,3,4,'a','b','c')"
   ]
  },
  {
   "cell_type": "code",
   "execution_count": 22,
   "metadata": {},
   "outputs": [
    {
     "name": "stdout",
     "output_type": "stream",
     "text": [
      "all keywrod arguments:{'tw': '台灣', 'ch': '西台灣', 'us': '美國', 'jp': '日本'}\n"
     ]
    }
   ],
   "source": [
    "def print_keywrod_arguments(**kwargs):\n",
    "    print(f'all keywrod arguments:{kwargs}')\n",
    "print_keywrod_arguments(tw='台灣',ch='西台灣',us='美國',jp='日本')\n"
   ]
  },
  {
   "cell_type": "code",
   "execution_count": null,
   "metadata": {},
   "outputs": [],
   "source": []
  }
 ],
 "metadata": {
  "kernelspec": {
   "display_name": "Python 3",
   "language": "python",
   "name": "python3"
  },
  "language_info": {
   "codemirror_mode": {
    "name": "ipython",
    "version": 3
   },
   "file_extension": ".py",
   "mimetype": "text/x-python",
   "name": "python",
   "nbconvert_exporter": "python",
   "pygments_lexer": "ipython3",
   "version": "3.12.0"
  }
 },
 "nbformat": 4,
 "nbformat_minor": 2
}
