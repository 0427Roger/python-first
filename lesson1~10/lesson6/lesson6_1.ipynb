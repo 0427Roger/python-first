{
 "cells": [
  {
   "cell_type": "code",
   "execution_count": null,
   "metadata": {},
   "outputs": [],
   "source": [
    "#input a number,if it a positive even integer,add it.\n",
    "# if it a positive odd integer,do nothing.\n",
    "# if it is a negative number,end the program.\n",
    "sum=0\n",
    "while True:\n",
    "    try:\n",
    "        input_variable=int(input())\n",
    "    except:\n",
    "        print('format error.')\n",
    "        continue\n",
    "    if input_variable<0:\n",
    "        print('end the program')\n",
    "        break\n",
    "    if input_variable%2==0:\n",
    "        sum+=input_variable\n",
    "        print(sum)\n",
    "    else:\n",
    "        print('do nothing')\n",
    "        "
   ]
  }
 ],
 "metadata": {
  "kernelspec": {
   "display_name": "Python 3",
   "language": "python",
   "name": "python3"
  },
  "language_info": {
   "codemirror_mode": {
    "name": "ipython",
    "version": 3
   },
   "file_extension": ".py",
   "mimetype": "text/x-python",
   "name": "python",
   "nbconvert_exporter": "python",
   "pygments_lexer": "ipython3",
   "version": "3.12.0"
  }
 },
 "nbformat": 4,
 "nbformat_minor": 2
}
