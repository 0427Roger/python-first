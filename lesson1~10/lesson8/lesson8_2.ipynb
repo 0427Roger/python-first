{
 "cells": [
  {
   "cell_type": "code",
   "execution_count": null,
   "metadata": {},
   "outputs": [],
   "source": [
    "import random\n",
    "scores:list[int]=[random.randint(50,100),random.randint(50,100),random.randint(50,100),random.randint(50,100),random.randint(50,100)]\n",
    "print(scores)"
   ]
  },
  {
   "cell_type": "code",
   "execution_count": null,
   "metadata": {},
   "outputs": [],
   "source": [
    "import random\n",
    "scores.clear()\n",
    "for _ in range(5):\n",
    "    scores.append(random.randint(50,100))\n",
    "print(scores)"
   ]
  },
  {
   "cell_type": "code",
   "execution_count": null,
   "metadata": {},
   "outputs": [],
   "source": [
    "#list comprehensions\n",
    "#https://docs.python.org/zh-tw/3/tutorial/datastructures.html#nested-list-comprehensions\n",
    "scores:list[int] = [random.randint(50,100) for i in range(5)]\n",
    "print(scores)"
   ]
  }
 ],
 "metadata": {
  "kernelspec": {
   "display_name": "Python 3",
   "language": "python",
   "name": "python3"
  },
  "language_info": {
   "codemirror_mode": {
    "name": "ipython",
    "version": 3
   },
   "file_extension": ".py",
   "mimetype": "text/x-python",
   "name": "python",
   "nbconvert_exporter": "python",
   "pygments_lexer": "ipython3",
   "version": "3.12.0"
  }
 },
 "nbformat": 4,
 "nbformat_minor": 2
}
