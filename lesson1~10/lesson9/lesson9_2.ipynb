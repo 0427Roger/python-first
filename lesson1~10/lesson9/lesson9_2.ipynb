{
 "cells": [
  {
   "cell_type": "code",
   "execution_count": null,
   "metadata": {},
   "outputs": [],
   "source": [
    "from pydantic import BaseModel\n",
    "class Student(BaseModel):\n",
    "    name:str\n",
    "    nature:int\n",
    "    history:int\n",
    "    @property\n",
    "    def sum(self)->int:\n",
    "        return self.nature + self.history\n",
    "    def average(self)->float:\n",
    "        return round(self.sum /2,ndigits=2)\n"
   ]
  },
  {
   "cell_type": "code",
   "execution_count": null,
   "metadata": {},
   "outputs": [],
   "source": [
    "student1=Student.model_validate({'name':'Roger','nature':97,'history':99})\n",
    "print(student1.name)\n",
    "print(student1.nature)\n",
    "print(student1.history)\n",
    "print(student1.sum)\n",
    "print(student1.average())"
   ]
  }
 ],
 "metadata": {
  "kernelspec": {
   "display_name": "Python 3",
   "language": "python",
   "name": "python3"
  },
  "language_info": {
   "codemirror_mode": {
    "name": "ipython",
    "version": 3
   },
   "file_extension": ".py",
   "mimetype": "text/x-python",
   "name": "python",
   "nbconvert_exporter": "python",
   "pygments_lexer": "ipython3",
   "version": "3.12.0"
  }
 },
 "nbformat": 4,
 "nbformat_minor": 2
}
