{
 "cells": [
  {
   "cell_type": "code",
   "execution_count": 5,
   "metadata": {},
   "outputs": [
    {
     "name": "stdout",
     "output_type": "stream",
     "text": [
      "Olivia\n",
      "80\n",
      "90\n",
      "85\n",
      "255\n",
      "85.0\n",
      "==========\n",
      "Noah\n",
      "70\n",
      "93\n",
      "93\n",
      "256\n",
      "85.33\n",
      "==========\n",
      "Isabella\n",
      "84\n",
      "94\n",
      "94\n",
      "272\n",
      "90.67\n",
      "==========\n"
     ]
    }
   ],
   "source": [
    "from pydantic import RootModel,BaseModel\n",
    "source_data:list[dict]=[\n",
    "    {'name':'Olivia','Nature':80,'Physics':90,'History':85},\n",
    "    {'name':'Noah','Nature':70,'Physics':93,'History':93},\n",
    "    {'name':'Isabella','Nature':84,'Physics':94,'History':94}\n",
    "]\n",
    "class Student(BaseModel):\n",
    "    name:str\n",
    "    Nature:int\n",
    "    Physics:int\n",
    "    History:int\n",
    "\n",
    "    @property\n",
    "    def sum(self)->int:\n",
    "        return self.Nature+self.Physics+self.History\n",
    "    def average(self)->float:\n",
    "        return round(self.sum/3,ndigits=2)\n",
    "class AllStudent(RootModel):\n",
    "    root:list[Student]\n",
    "\n",
    "    def __iter__(self):\n",
    "        return iter(self.root)\n",
    "    \n",
    "    def __getitem__(self,item):\n",
    "        return self.root[item]\n",
    "students:AllStudent=AllStudent.model_validate(source_data)\n",
    "for item in students:\n",
    "    print(item.name)\n",
    "    print(item.Nature)\n",
    "    print(item.Physics)\n",
    "    print(item.History)\n",
    "    print(item.sum)\n",
    "    print(item.average())\n",
    "    print('==========')"
   ]
  }
 ],
 "metadata": {
  "kernelspec": {
   "display_name": "Python 3",
   "language": "python",
   "name": "python3"
  },
  "language_info": {
   "codemirror_mode": {
    "name": "ipython",
    "version": 3
   },
   "file_extension": ".py",
   "mimetype": "text/x-python",
   "name": "python",
   "nbconvert_exporter": "python",
   "pygments_lexer": "ipython3",
   "version": "3.12.0"
  }
 },
 "nbformat": 4,
 "nbformat_minor": 2
}
