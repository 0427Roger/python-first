{
 "cells": [
  {
   "cell_type": "code",
   "execution_count": 6,
   "metadata": {},
   "outputs": [
    {
     "name": "stdout",
     "output_type": "stream",
     "text": [
      "hypotenuse side is 100,opposite side is 50\n",
      "angree is 30.00 degrees\n"
     ]
    }
   ],
   "source": [
    "#Find the angles of a right triangle.\n",
    "import math\n",
    "hypotenuse=eval(input(\"input the hypotenuse:\"))\n",
    "opposite=eval(input(\"input the opposite:\"))\n",
    "radian=math.asin(opposite/hypotenuse)\n",
    "angle=math.degrees(angle)\n",
    "print(f\"\"\"hypotenuse side is {hypotenuse},opposite side is {opposite}\n",
    "angle is {angle:.2f} degrees\"\"\")"
   ]
  }
 ],
 "metadata": {
  "kernelspec": {
   "display_name": "Python 3",
   "language": "python",
   "name": "python3"
  },
  "language_info": {
   "codemirror_mode": {
    "name": "ipython",
    "version": 3
   },
   "file_extension": ".py",
   "mimetype": "text/x-python",
   "name": "python",
   "nbconvert_exporter": "python",
   "pygments_lexer": "ipython3",
   "version": "3.10.13"
  }
 },
 "nbformat": 4,
 "nbformat_minor": 2
}
