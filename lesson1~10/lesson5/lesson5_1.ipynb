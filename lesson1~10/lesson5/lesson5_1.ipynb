{
 "cells": [
  {
   "cell_type": "code",
   "execution_count": null,
   "metadata": {},
   "outputs": [],
   "source": [
    "#scores between 90 and 100 are graded as 'excellent'.\n",
    "#scores between 80 and 90 are graded as 'A'.\n",
    "#scores between 70 and 80 are graded as 'B'.\n",
    "#scores between 60 and 70 are graded as 'C'.\n",
    "#scores between 0 and 60 are graded as 'D'.\n",
    "try:\n",
    "    score=eval(input('input student scores:'))\n",
    "    if score<0 or score>100:\n",
    "        print('input error.')\n",
    "    else:\n",
    "        if score<60:\n",
    "            grade='D'\n",
    "        elif score<70:\n",
    "            grade='C'\n",
    "        elif score<80:\n",
    "            grade='B'\n",
    "        elif score<90:\n",
    "            grade='A'\n",
    "        else:\n",
    "            grade='excellent'\n",
    "        print(f'The student scores is {score}.')\n",
    "        print(f'The student grade is {grade}.')\n",
    "except:\n",
    "    print('input format error.')"
   ]
  }
 ],
 "metadata": {
  "kernelspec": {
   "display_name": "Python 3",
   "language": "python",
   "name": "python3"
  },
  "language_info": {
   "codemirror_mode": {
    "name": "ipython",
    "version": 3
   },
   "file_extension": ".py",
   "mimetype": "text/x-python",
   "name": "python",
   "nbconvert_exporter": "python",
   "pygments_lexer": "ipython3",
   "version": "3.12.0"
  }
 },
 "nbformat": 4,
 "nbformat_minor": 2
}
