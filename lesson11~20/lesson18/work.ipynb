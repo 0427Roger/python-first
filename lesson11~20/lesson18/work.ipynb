{
 "cells": [
  {
   "cell_type": "code",
   "execution_count": null,
   "metadata": {},
   "outputs": [],
   "source": [
    "import pandas as pd\n",
    "from pandas import DataFrame\n",
    "df1:DataFrame=pd.read_csv('Population density of each township and urban area.csv')\n",
    "df1=df1.dropna()\n",
    "df1=df1.drop(index=[369,370])\n",
    "df1=df1.drop(index=0)\n",
    "\n",
    "display(df1)"
   ]
  },
  {
   "cell_type": "code",
   "execution_count": null,
   "metadata": {},
   "outputs": [],
   "source": [
    "def separation(site:str):\n",
    "    town=str(site[:3])\n",
    "    city=str(site[3:])\n",
    "    return town , city\n",
    "\n",
    "df1[['town', 'city']] = df1['site_id'].apply(separation).apply(pd.Series)\n",
    "df2=df1.reindex(columns=['statistic_yyy','town','city','people_total','area','population_density'])\n",
    "df2"
   ]
  }
 ],
 "metadata": {
  "kernelspec": {
   "display_name": "Python 3",
   "language": "python",
   "name": "python3"
  },
  "language_info": {
   "codemirror_mode": {
    "name": "ipython",
    "version": 3
   },
   "file_extension": ".py",
   "mimetype": "text/x-python",
   "name": "python",
   "nbconvert_exporter": "python",
   "pygments_lexer": "ipython3",
   "version": "3.10.14"
  }
 },
 "nbformat": 4,
 "nbformat_minor": 2
}
