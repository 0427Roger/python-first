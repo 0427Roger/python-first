{
 "cells": [
  {
   "cell_type": "code",
   "execution_count": null,
   "metadata": {},
   "outputs": [],
   "source": [
    "import pandas as pd\n",
    "from pandas import DataFrame\n",
    "df1:DataFrame=pd.read_csv('Population density of each township and urban area.csv')\n",
    "df1=df1.dropna()\n",
    "df1=df1.drop(index=0)\n",
    "display(df1)"
   ]
  },
  {
   "cell_type": "code",
   "execution_count": null,
   "metadata": {},
   "outputs": [],
   "source": [
    "def separation(site:str)->str:\n",
    "    if ('縣' in site)|('市' in site):\n",
    "        index=site.index('縣' if '縣' in site else '市')+1\n",
    "        town=site[:index]\n",
    "        city=site[index:]\n",
    "        return town,city\n",
    "    else:\n",
    "        return site,None\n",
    "\n",
    "def to_value(value:int)->int:\n",
    "    try:\n",
    "        return int(value)\n",
    "    except:\n",
    "        return 0\n",
    "\n",
    "def main():\n",
    "    df1[['town', 'city']] = [(town,city) for town,city in df1['site_id'].map(separation)]\n",
    "    df1[['population_density','people_total']] = df1[['population_density', 'people_total']].apply(lambda x: x.map(to_value))\n",
    "    df2=df1.reindex(columns=['statistic_yyy','town','city','people_total','area','population_density'])\n",
    "    display(df2)\n",
    "if __name__=='__main__':\n",
    "    main()"
   ]
  }
 ],
 "metadata": {
  "kernelspec": {
   "display_name": "Python 3",
   "language": "python",
   "name": "python3"
  },
  "language_info": {
   "codemirror_mode": {
    "name": "ipython",
    "version": 3
   },
   "file_extension": ".py",
   "mimetype": "text/x-python",
   "name": "python",
   "nbconvert_exporter": "python",
   "pygments_lexer": "ipython3",
   "version": "3.10.14"
  }
 },
 "nbformat": 4,
 "nbformat_minor": 2
}
