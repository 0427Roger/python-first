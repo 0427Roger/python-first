{
 "cells": [
  {
   "cell_type": "code",
   "execution_count": null,
   "metadata": {},
   "outputs": [],
   "source": [
    "import pandas as pd\n",
    "import numpy as np\n",
    "df1=pd.read_csv('各鄉鎮市區人口密度.csv')\n",
    "df1=df1.drop(index=[0]).dropna()\n",
    "df1=df1.set_index(df1['site_id']).drop(columns=['site_id','statistic_yyy'])\n",
    "df1.info()"
   ]
  },
  {
   "cell_type": "code",
   "execution_count": null,
   "metadata": {},
   "outputs": [],
   "source": [
    "def to_integer(value):\n",
    "    try:\n",
    "        return int(value)\n",
    "    except Exception as e:\n",
    "        return 0.0\n",
    "\n",
    "df1['people_total']=df1['people_total'].map(to_integer)\n",
    "df1['area']=df1['area'].astype(float)\n",
    "df1['population_density']=df1['population_density'].map(to_integer)\n",
    "df1"
   ]
  }
 ],
 "metadata": {
  "kernelspec": {
   "display_name": "Python 3",
   "language": "python",
   "name": "python3"
  },
  "language_info": {
   "codemirror_mode": {
    "name": "ipython",
    "version": 3
   },
   "file_extension": ".py",
   "mimetype": "text/x-python",
   "name": "python",
   "nbconvert_exporter": "python",
   "pygments_lexer": "ipython3",
   "version": "3.10.14"
  }
 },
 "nbformat": 4,
 "nbformat_minor": 2
}
