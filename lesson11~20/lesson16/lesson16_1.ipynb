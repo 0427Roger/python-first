{
 "cells": [
  {
   "cell_type": "code",
   "execution_count": null,
   "metadata": {},
   "outputs": [],
   "source": [
    "import pandas as pd\n",
    "import numpy as np\n",
    "array=np.arange(9).reshape((3,3))\n",
    "array_df=pd.DataFrame(array,index=range(1,4),columns=['peach','grape','guava'])\n",
    "\n",
    "display(array.size)\n",
    "display(array.shape)\n",
    "display(array.ndim)\n",
    "display(array.dtype)\n",
    "\n",
    "display(array_df.reindex(columns=['grape','peach'],index=[1,2]))\n",
    "display(array_df.drop(index=1))\n",
    "display(array_df.drop(columns='peach'))"
   ]
  },
  {
   "cell_type": "code",
   "execution_count": null,
   "metadata": {},
   "outputs": [],
   "source": [
    "import pandas as pd\n",
    "import numpy as np\n",
    "array=np.arange(1,10).reshape((3,3))\n",
    "array_df=pd.DataFrame(array,index=['one','two','three'],columns=['Taipie','Taichung','Changhua'])\n",
    "display(array_df[array_df['Taipie']>=4])\n",
    "display(array_df)\n",
    "\n"
   ]
  },
  {
   "cell_type": "code",
   "execution_count": null,
   "metadata": {},
   "outputs": [],
   "source": [
    "display(array_df)\n",
    "display(array_df.index)\n",
    "display(array_df.columns)\n",
    "\n",
    "df1=array_df\n",
    "df1.columns=('USA','TW','CH')\n",
    "df1.index=[1,2,3]\n",
    "display(df1)\n",
    "\n",
    "df1.rename(index={1:'ONE',2:'TWO',3:'THREE'})"
   ]
  }
 ],
 "metadata": {
  "kernelspec": {
   "display_name": "env1",
   "language": "python",
   "name": "python3"
  },
  "language_info": {
   "codemirror_mode": {
    "name": "ipython",
    "version": 3
   },
   "file_extension": ".py",
   "mimetype": "text/x-python",
   "name": "python",
   "nbconvert_exporter": "python",
   "pygments_lexer": "ipython3",
   "version": "3.10.14"
  }
 },
 "nbformat": 4,
 "nbformat_minor": 2
}
