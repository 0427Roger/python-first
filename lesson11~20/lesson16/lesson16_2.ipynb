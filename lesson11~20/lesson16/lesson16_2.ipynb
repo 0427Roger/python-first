{
 "cells": [
  {
   "cell_type": "code",
   "execution_count": null,
   "metadata": {},
   "outputs": [],
   "source": [
    "import pandas as pd\n",
    "df1=pd.read_csv('Listed company information.csv')\n",
    "df2=df1.reindex(columns=['公司代號','公司名稱','產業別','營業收入-當月營收','營業收入-上月營收'])\n",
    "df2=df2.rename(columns={'公司代號':'Company_code','公司名稱':'Company_name','產業別':'Industry','營業收入-當月營收':'Operating income(current month)','營業收入-上月營收':'Operating income(last month)'})\n",
    "display(df2)\n"
   ]
  },
  {
   "cell_type": "code",
   "execution_count": null,
   "metadata": {},
   "outputs": [],
   "source": [
    "#Not repeating data\n",
    "items=set()\n",
    "for item in df2['Industry']:\n",
    "    items.add(item)\n",
    "display(items)\n",
    "\n",
    "df2['Industry'].drop_duplicates().to_list()"
   ]
  }
 ],
 "metadata": {
  "kernelspec": {
   "display_name": "env1",
   "language": "python",
   "name": "python3"
  },
  "language_info": {
   "codemirror_mode": {
    "name": "ipython",
    "version": 3
   },
   "file_extension": ".py",
   "mimetype": "text/x-python",
   "name": "python",
   "nbconvert_exporter": "python",
   "pygments_lexer": "ipython3",
   "version": "3.10.14"
  }
 },
 "nbformat": 4,
 "nbformat_minor": 2
}
