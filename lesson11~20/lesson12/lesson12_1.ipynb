{
 "cells": [
  {
   "cell_type": "code",
   "execution_count": null,
   "metadata": {},
   "outputs": [],
   "source": [
    "import requests\n",
    "from requests import Response\n",
    "from io import StringIO\n",
    "from csv import DictReader\n",
    "def get_aqi_data():\n",
    "    try:\n",
    "        aqi_url='https://data.moenv.gov.tw/api/v2/aqx_p_488?api_key=e8dd42e6-9b8b-43f8-991e-b3dee723a52d&limit=1000&sort=datacreationdate desc&format=CSV'\n",
    "        response:Response=requests.get(aqi_url)\n",
    "        response.raise_for_status()\n",
    "    except Exception as e:\n",
    "        print(f'HTTP error occurred:{e}')\n",
    "        return None\n",
    "    else:\n",
    "        if response.status_code != 200:\n",
    "            print('Status code error.')\n",
    "            return None\n",
    "    if response:\n",
    "        rawString=response.text\n",
    "    file:StringIO=StringIO(rawString)\n",
    "    read:DictReader=DictReader(file)\n",
    "    data:list[dict]=list(read)\n",
    "    return data\n",
    "aqi_data=get_aqi_data()"
   ]
  },
  {
   "cell_type": "code",
   "execution_count": null,
   "metadata": {},
   "outputs": [],
   "source": [
    "from pydantic import RootModel,BaseModel,Field,field_validator\n",
    "class Site(BaseModel):\n",
    "    county:str\n",
    "    sitename:str\n",
    "    aqi:float\n",
    "    creat_time:str=Field(alias='datacreationdate')\n",
    "    particulate_matter:float=Field(alias='pm2.5')\n",
    "    @field_validator('particulate_matter',mode='before')\n",
    "    @classmethod\n",
    "    def empty_string_pm25(cls,value):\n",
    "        if value=='':\n",
    "            return 0.0\n",
    "        else:\n",
    "            return value\n",
    "class Sites(RootModel):\n",
    "    root:list[Site]\n",
    "\n",
    "    def __iter__(self):\n",
    "        return iter(self.root)\n",
    "\n",
    "    def __getitem__(self, item):\n",
    "        return self.root[item]\n",
    "    \n",
    "sites:Sites=Sites.model_validate(aqi_data)\n",
    "download:list[dict]=sites.model_dump()#RootModel to list"
   ]
  },
  {
   "cell_type": "code",
   "execution_count": null,
   "metadata": {},
   "outputs": [],
   "source": [
    "import pandas as pd\n",
    "pd.DataFrame(download)"
   ]
  }
 ],
 "metadata": {
  "kernelspec": {
   "display_name": "Python 3",
   "language": "python",
   "name": "python3"
  },
  "language_info": {
   "codemirror_mode": {
    "name": "ipython",
    "version": 3
   },
   "file_extension": ".py",
   "mimetype": "text/x-python",
   "name": "python",
   "nbconvert_exporter": "python",
   "pygments_lexer": "ipython3",
   "version": "3.10.13"
  }
 },
 "nbformat": 4,
 "nbformat_minor": 2
}
