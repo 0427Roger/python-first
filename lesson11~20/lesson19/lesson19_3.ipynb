{
 "cells": [
  {
   "cell_type": "code",
   "execution_count": null,
   "metadata": {},
   "outputs": [],
   "source": [
    "import requests\n",
    "import pandas as pd\n",
    "url='https://ods.railway.gov.tw/tra-ods-web/ods/download/dataResource/0518b833e8964d53bfea3f7691aea0ee'\n",
    "station_df=pd.DataFrame(requests.get(url).json(),columns=['stationCode','stationName'])\n",
    "station_df['stationCode']=station_df['stationCode'].astype('int')"
   ]
  },
  {
   "cell_type": "code",
   "execution_count": null,
   "metadata": {},
   "outputs": [],
   "source": [
    "import pandas as pd\n",
    "import os\n",
    "\n",
    "file_names:list[str]=os.listdir('Number of people entering and exiting each station every day')\n",
    "abs_path:list[str]=[]\n",
    "abs_path.extend(os.path.abspath(f'Number of people entering and exiting each station every day/{name}') for name in file_names)"
   ]
  },
  {
   "cell_type": "code",
   "execution_count": null,
   "metadata": {},
   "outputs": [],
   "source": [
    "add_df=pd.concat([pd.read_csv(path) for path in abs_path])\n",
    "add_df['trnOpDate']=pd.to_datetime(add_df['trnOpDate'].astype('str'))\n",
    "add_df=add_df.rename(columns={'staCode':'stationCode'})"
   ]
  },
  {
   "cell_type": "code",
   "execution_count": null,
   "metadata": {},
   "outputs": [],
   "source": [
    "all_df=pd.merge(add_df,station_df,on='stationCode',how='left')\n",
    "all_df=all_df.dropna()\n",
    "all_df=all_df.sort_values(by=['trnOpDate'])\n",
    "all_df.query('trnOpDate.dt.month==2020-04'and'trnOpDate.dt.year==2020')"
   ]
  }
 ],
 "metadata": {
  "kernelspec": {
   "display_name": "Python 3",
   "language": "python",
   "name": "python3"
  },
  "language_info": {
   "codemirror_mode": {
    "name": "ipython",
    "version": 3
   },
   "file_extension": ".py",
   "mimetype": "text/x-python",
   "name": "python",
   "nbconvert_exporter": "python",
   "pygments_lexer": "ipython3",
   "version": "3.10.14"
  }
 },
 "nbformat": 4,
 "nbformat_minor": 2
}
