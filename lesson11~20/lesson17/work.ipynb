{
 "cells": [
  {
   "cell_type": "code",
   "execution_count": null,
   "metadata": {},
   "outputs": [],
   "source": [
    "import pandas as pd\n",
    "from pandas import DataFrame\n",
    "data:DataFrame=pd.read_csv('各鄉鎮市區人口密度.csv')\n",
    "data1=data.dropna()\n",
    "data1=data1.drop(index=[0,369,370],axis=0)\n",
    "data1=data1.set_index(['site_id'])\n",
    "data2=data1.reindex(columns=['people_total','area','population_density'])"
   ]
  },
  {
   "cell_type": "code",
   "execution_count": null,
   "metadata": {},
   "outputs": [],
   "source": [
    "data2['people_total']=pd.to_numeric(arg=data2['people_total'],downcast='integer')\n",
    "data2['area']=pd.to_numeric(arg=data2['area'],downcast='float')\n",
    "data2['population_density']=pd.to_numeric(arg=data2['population_density'],downcast='integer')\n",
    "data2.info()"
   ]
  },
  {
   "cell_type": "code",
   "execution_count": null,
   "metadata": {},
   "outputs": [],
   "source": []
  }
 ],
 "metadata": {
  "kernelspec": {
   "display_name": "Python 3",
   "language": "python",
   "name": "python3"
  },
  "language_info": {
   "codemirror_mode": {
    "name": "ipython",
    "version": 3
   },
   "file_extension": ".py",
   "mimetype": "text/x-python",
   "name": "python",
   "nbconvert_exporter": "python",
   "pygments_lexer": "ipython3",
   "version": "3.10.14"
  }
 },
 "nbformat": 4,
 "nbformat_minor": 2
}
