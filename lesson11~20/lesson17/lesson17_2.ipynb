{
 "cells": [
  {
   "cell_type": "code",
   "execution_count": null,
   "metadata": {},
   "outputs": [],
   "source": [
    "import pandas as pd\n",
    "import numpy as np\n",
    "data=np.random.randint(50,100,(10,5))\n",
    "scores_df=pd.DataFrame(data,columns=['Chinese','Physics','Natrue','Math','English'],index=range(1,11))\n",
    "display(scores_df)"
   ]
  },
  {
   "cell_type": "code",
   "execution_count": null,
   "metadata": {},
   "outputs": [],
   "source": [
    "scores_sum=scores_df.iloc[:,:5].sum(axis=1)\n",
    "scores_average=scores_df.iloc[:,:5].mean(axis=1)\n",
    "scores_df['total']=scores_sum\n",
    "scores_df['ave']=scores_average\n",
    "display(scores_df)"
   ]
  },
  {
   "cell_type": "code",
   "execution_count": null,
   "metadata": {},
   "outputs": [],
   "source": [
    "import numpy as np\n",
    "from pandas import Series\n",
    "\n",
    "def calculation_level(s:Series):\n",
    "    average:float=float(s.mean())\n",
    "    if average>=0 and average<=100:\n",
    "        if average<=60:\n",
    "            return 'C'\n",
    "        elif average<=80:\n",
    "            return 'B'\n",
    "        elif average<=90:\n",
    "            return 'A'\n",
    "        else:\n",
    "            return 'Excellent'\n",
    "    else:\n",
    "        return 'Error'\n",
    "def calculation_failure(s:Series):\n",
    "    count=0\n",
    "    s=s.values\n",
    "    return sum([i <60 for i in s])\n",
    "scores_df['level']=scores_df.iloc[:,:5].apply(calculation_level,axis=1)\n",
    "scores_df['Failures']=scores_df.iloc[:,:5].apply(calculation_failure,axis=1)\n",
    "display(scores_df)"
   ]
  }
 ],
 "metadata": {
  "kernelspec": {
   "display_name": "Python 3",
   "language": "python",
   "name": "python3"
  },
  "language_info": {
   "codemirror_mode": {
    "name": "ipython",
    "version": 3
   },
   "file_extension": ".py",
   "mimetype": "text/x-python",
   "name": "python",
   "nbconvert_exporter": "python",
   "pygments_lexer": "ipython3",
   "version": "3.10.14"
  }
 },
 "nbformat": 4,
 "nbformat_minor": 2
}
