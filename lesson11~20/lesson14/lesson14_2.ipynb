{
 "cells": [
  {
   "cell_type": "code",
   "execution_count": null,
   "metadata": {},
   "outputs": [],
   "source": [
    "import numpy as np\n",
    "\n",
    "list1 = [10,20,30]\n",
    "list2 = [3,7,10]\n",
    "array1 = np.array(list1)\n",
    "array2 = np.array(list2)\n",
    "display(array1*array2)"
   ]
  },
  {
   "cell_type": "code",
   "execution_count": null,
   "metadata": {},
   "outputs": [],
   "source": [
    "import matplotlib.pyplot as plt\n",
    "x = np.linspace(-2,3)\n",
    "y = (x-2)/(x**2-x-2)\n",
    "fig , axes =plt.subplots()\n",
    "axes.plot(x,y,color='red',marker='*',linestyle='')\n",
    "axes.set_xlim((-2,2))\n",
    "axes.set_ylim((-20,50))\n",
    "plt.show()\n"
   ]
  },
  {
   "cell_type": "code",
   "execution_count": null,
   "metadata": {},
   "outputs": [],
   "source": [
    "import math\n",
    "\n",
    "array_x = np.arange(-2,2,0.1)\n",
    "y1 = np.sin(math.pi * array_x)\n",
    "y2 = np.cos(math.pi * array_x)\n",
    "\n",
    "figure,axes =plt.subplots()\n",
    "axes.plot(array_x,y1,marker='*',markersize=3,color='r',linestyle='-',linewidth=5)\n",
    "axes.plot(array_x,y2,marker='^',markersize=3,color='g',linestyle='-',linewidth=5)\n",
    "plt.show()"
   ]
  },
  {
   "cell_type": "code",
   "execution_count": null,
   "metadata": {},
   "outputs": [],
   "source": [
    "import numpy as np\n",
    "data=[('apple', 5), ('banana', 7), ('orange',3), ('tomato', 4), ('guava',6)]\n",
    "data_array=np.array(data)\n",
    "print(data_array)\n",
    "print(np.shape(data_array))\n",
    "print(np.array(data_array[:,1],dtype=int))"
   ]
  },
  {
   "cell_type": "code",
   "execution_count": null,
   "metadata": {},
   "outputs": [],
   "source": [
    "import pandas as pd\n",
    "data_df = pd.DataFrame(data,columns=['fruit','numbers(k)'])\n",
    "display(data_df)\n",
    "print(data_df['fruit'])\n",
    "print(data_df['numbers(k)'])\n",
    "print(data_df['fruit'].values)\n",
    "print(data_df['numbers(k)'].values)"
   ]
  }
 ],
 "metadata": {
  "kernelspec": {
   "display_name": "env1",
   "language": "python",
   "name": "python3"
  },
  "language_info": {
   "codemirror_mode": {
    "name": "ipython",
    "version": 3
   },
   "file_extension": ".py",
   "mimetype": "text/x-python",
   "name": "python",
   "nbconvert_exporter": "python",
   "pygments_lexer": "ipython3",
   "version": "3.10.14"
  }
 },
 "nbformat": 4,
 "nbformat_minor": 2
}
