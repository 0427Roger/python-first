{
 "cells": [
  {
   "cell_type": "code",
   "execution_count": null,
   "metadata": {},
   "outputs": [],
   "source": [
    "import tools\n",
    "import csv\n",
    "names=tools.get_names(5)\n",
    "physical=tools.get_physical(names)\n",
    "\n",
    "with open('physical.csv',mode='w',encoding='utf-8',newline='') as file:\n",
    "    dictwrite=csv.DictWriter(file,fieldnames=['name','height','weight'])\n",
    "    dictwrite.writeheader()\n",
    "    dictwrite.writerows(physical)"
   ]
  },
  {
   "cell_type": "code",
   "execution_count": null,
   "metadata": {},
   "outputs": [],
   "source": [
    "import tools\n",
    "import io\n",
    "import csv\n",
    "import pandas as pd\n",
    "url='https://raw.githubusercontent.com/roberthsu2003/__2024_02_20_2_4__/main/lesson11/students.csv'\n",
    "\n",
    "response=tools.download(url)\n",
    "if response:\n",
    "    rawString:str=response.text\n",
    "file=io.StringIO(rawString)\n",
    "read=csv.DictReader(file)\n",
    "data_df=pd.DataFrame(read,index=range(1,51))\n",
    "display(data_df)"
   ]
  },
  {
   "cell_type": "code",
   "execution_count": null,
   "metadata": {},
   "outputs": [],
   "source": [
    "help(pd.DataFrame)"
   ]
  }
 ],
 "metadata": {
  "kernelspec": {
   "display_name": "env1",
   "language": "python",
   "name": "python3"
  },
  "language_info": {
   "codemirror_mode": {
    "name": "ipython",
    "version": 3
   },
   "file_extension": ".py",
   "mimetype": "text/x-python",
   "name": "python",
   "nbconvert_exporter": "python",
   "pygments_lexer": "ipython3",
   "version": "3.10.14"
  }
 },
 "nbformat": 4,
 "nbformat_minor": 2
}
