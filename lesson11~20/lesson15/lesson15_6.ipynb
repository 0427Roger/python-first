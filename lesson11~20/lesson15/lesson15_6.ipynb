{
 "cells": [
  {
   "cell_type": "code",
   "execution_count": null,
   "metadata": {},
   "outputs": [],
   "source": [
    "import random\n",
    "import pandas as pd\n",
    "import csv\n",
    "from io import StringIO\n",
    "import tools\n",
    "\n",
    "names=get_names(5)\n",
    "physical=get_physical(names)\n",
    "\n",
    "with open('physical.csv',mode='w',encoding='utf-8',newline='') as file:\n",
    "    dictwrite=csv.DictWriter(file,fieldnames=['name','height','weight'])\n",
    "    dictwrite.writeheader()\n",
    "    dictwrite.writerows(physical)"
   ]
  },
  {
   "cell_type": "code",
   "execution_count": null,
   "metadata": {},
   "outputs": [],
   "source": [
    "import requests\n",
    "from requests import Response\n",
    "import tools\n",
    "\n",
    "url='https://raw.githubusercontent.com/roberthsu2003/__2024_02_20_2_4__/main/lesson11/students.csv'\n",
    "\n",
    "get_download()"
   ]
  },
  {
   "cell_type": "code",
   "execution_count": 6,
   "metadata": {},
   "outputs": [
    {
     "ename": "NameError",
     "evalue": "name 'download' is not defined",
     "output_type": "error",
     "traceback": [
      "\u001b[1;31m---------------------------------------------------------------------------\u001b[0m",
      "\u001b[1;31mNameError\u001b[0m                                 Traceback (most recent call last)",
      "Cell \u001b[1;32mIn[6], line 2\u001b[0m\n\u001b[0;32m      1\u001b[0m \u001b[38;5;28;01mimport\u001b[39;00m \u001b[38;5;21;01mtools\u001b[39;00m \n\u001b[1;32m----> 2\u001b[0m \u001b[43mdownload\u001b[49m()\n",
      "\u001b[1;31mNameError\u001b[0m: name 'download' is not defined"
     ]
    }
   ],
   "source": [
    "import tools \n",
    "download()"
   ]
  }
 ],
 "metadata": {
  "kernelspec": {
   "display_name": "env1",
   "language": "python",
   "name": "python3"
  },
  "language_info": {
   "codemirror_mode": {
    "name": "ipython",
    "version": 3
   },
   "file_extension": ".py",
   "mimetype": "text/x-python",
   "name": "python",
   "nbconvert_exporter": "python",
   "pygments_lexer": "ipython3",
   "version": "3.10.14"
  }
 },
 "nbformat": 4,
 "nbformat_minor": 2
}
