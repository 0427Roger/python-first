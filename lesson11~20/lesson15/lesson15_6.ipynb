{
 "cells": [
  {
   "cell_type": "code",
   "execution_count": null,
   "metadata": {},
   "outputs": [],
   "source": [
    "import random\n",
    "import pandas as pd\n",
    "import csv\n",
    "import io\n",
    "\n",
    "def get_names(num:int=5)->list[str]:\n",
    "    with open('names.txt',encoding='utf-8') as file:\n",
    "        context=file.read().split('\\n')\n",
    "        names:str=random.choices(context,k=num)\n",
    "        return names\n",
    "\n",
    "def get_physical(names)->list[dict[str,int,int]]:\n",
    "    items:list=[]\n",
    "    for name in names:\n",
    "        item:dict={}\n",
    "        item['name']:str=name\n",
    "        item['height']:int=random.randint(150,200)\n",
    "        item['weight']:int=random.randint(50,80)\n",
    "        items.append(item)\n",
    "    return items\n",
    "\n",
    "names=get_names(5)\n",
    "physical=get_physical(names)\n",
    "for i in physical:\n",
    "    print(i)"
   ]
  },
  {
   "cell_type": "code",
   "execution_count": null,
   "metadata": {},
   "outputs": [],
   "source": [
    "help(print)"
   ]
  }
 ],
 "metadata": {
  "kernelspec": {
   "display_name": "env1",
   "language": "python",
   "name": "python3"
  },
  "language_info": {
   "codemirror_mode": {
    "name": "ipython",
    "version": 3
   },
   "file_extension": ".py",
   "mimetype": "text/x-python",
   "name": "python",
   "nbconvert_exporter": "python",
   "pygments_lexer": "ipython3",
   "version": "3.10.14"
  }
 },
 "nbformat": 4,
 "nbformat_minor": 2
}
