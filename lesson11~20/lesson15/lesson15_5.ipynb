{
 "cells": [
  {
   "cell_type": "code",
   "execution_count": null,
   "metadata": {},
   "outputs": [],
   "source": [
    "import numpy as np\n",
    "import pandas as pd\n",
    "\n",
    "data = np.random.randint(0,10,[10,5])\n",
    "subjects=['calculus','linear algebra','Engineering Mathematics','Mechanics','Ecology']\n",
    "scores_df=pd.DataFrame(data,index=range(1,11),columns=subjects)\n",
    "total = scores_df.sum(axis=1)\n",
    "average = scores_df.mean(axis=1)\n",
    "scores_df['total']=total\n",
    "scores_df['ave']=average\n",
    "display(scores_df)"
   ]
  },
  {
   "cell_type": "code",
   "execution_count": null,
   "metadata": {},
   "outputs": [],
   "source": [
    "display(scores_df.iloc[:3])\n",
    "display(scores_df.iloc[-3:])\n"
   ]
  }
 ],
 "metadata": {
  "kernelspec": {
   "display_name": "env1",
   "language": "python",
   "name": "python3"
  },
  "language_info": {
   "codemirror_mode": {
    "name": "ipython",
    "version": 3
   },
   "file_extension": ".py",
   "mimetype": "text/x-python",
   "name": "python",
   "nbconvert_exporter": "python",
   "pygments_lexer": "ipython3",
   "version": "3.10.14"
  }
 },
 "nbformat": 4,
 "nbformat_minor": 2
}
