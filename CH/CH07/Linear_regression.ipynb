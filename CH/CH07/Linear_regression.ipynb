{
 "cells": [
  {
   "cell_type": "code",
   "execution_count": null,
   "metadata": {},
   "outputs": [],
   "source": [
    "import matplotlib.pyplot as plt\n",
    "from sklearn.datasets import make_regression\n",
    "import numpy as np\n",
    "import tensorflow as tf\n",
    "import pandas as pd\n",
    "\n",
    "x,y=make_regression(n_samples=50,bias=50,noise=15,random_state=1,n_features=1)\n",
    "x=x.ravel()\n",
    "df=pd.DataFrame({'y':y,'x':x},index=range(1,51))\n",
    "figure,axes=plt.subplots()\n",
    "plt.scatter(x,y)\n",
    "line,=axes.plot(x,[0]*len(x),color='g')"
   ]
  },
  {
   "cell_type": "code",
   "execution_count": null,
   "metadata": {},
   "outputs": [],
   "source": [
    "def predict(x):\n",
    "    return w*x+b\n",
    "\n",
    "def loss(y,y_predict):\n",
    "    return tf.reduce_mean(tf.square(y-y_predict))\n",
    "\n",
    "def draw(w,b):\n",
    "    y_new=[w*xplot +b for xplot in x]\n",
    "    line.set_data(x,y_new)\n",
    "    plt.pause(0.1)\n",
    "\n",
    "def train(x,y,epochs:int=40,learning_rate:float=0.1):\n",
    "    current_loss=0\n",
    "    for epoch in range(epochs):\n",
    "        with tf.GradientTape() as t:\n",
    "            t.watch(tf.constant(x))\n",
    "            current_loss=loss(y,predict(x))\n",
    "            dw,db=t.gradient(current_loss,[w,b])\n",
    "\n",
    "            w.assign_sub(learning_rate*dw)\n",
    "            b.assign_sub(learning_rate*db)\n",
    "            draw(w,b)\n",
    "            print(f'Epoch:{epoch},Loss:{current_loss}')\n",
    "\n"
   ]
  },
  {
   "cell_type": "code",
   "execution_count": null,
   "metadata": {},
   "outputs": [],
   "source": [
    "w=tf.Variable(0.0)\n",
    "b=tf.Variable(0.0)\n",
    "train(x,y)\n",
    "print(f'w={w},b={b}')\n",
    "plt.show()"
   ]
  }
 ],
 "metadata": {
  "kernelspec": {
   "display_name": "Python 3",
   "language": "python",
   "name": "python3"
  },
  "language_info": {
   "codemirror_mode": {
    "name": "ipython",
    "version": 3
   },
   "file_extension": ".py",
   "mimetype": "text/x-python",
   "name": "python",
   "nbconvert_exporter": "python",
   "pygments_lexer": "ipython3",
   "version": "3.10.14"
  }
 },
 "nbformat": 4,
 "nbformat_minor": 2
}
